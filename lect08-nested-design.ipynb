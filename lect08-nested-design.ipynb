{
 "cells": [
  {
   "cell_type": "code",
   "execution_count": 1,
   "id": "ef4b5562",
   "metadata": {},
   "outputs": [
    {
     "name": "stdout",
     "output_type": "stream",
     "text": [
      "\n",
      "Enabling interactive shell outputs ...\n",
      "   Use command pass; to disable cell text outputs\n"
     ]
    }
   ],
   "source": [
    "print('\\nEnabling interactive shell outputs ...')\n",
    "print('   Use command pass; to disable cell text outputs')\n",
    "from IPython.core.interactiveshell import InteractiveShell\n",
    "InteractiveShell.ast_node_interactivity = \"all\"\n",
    "\n",
    "import warnings\n",
    "warnings.filterwarnings('ignore') \n",
    "warnings.simplefilter(action=\"ignore\",category=UserWarning)\n",
    "warnings.simplefilter(action=\"ignore\",category=FutureWarning)\n",
    "\n",
    "import pandas as pd \n",
    "import numpy as np\n",
    "import matplotlib.pyplot as plt\n",
    "import seaborn as sns\n",
    "\n",
    "%matplotlib inline\n",
    "%config InlineBackend.figure_formats = {'png', 'retina'}"
   ]
  },
  {
   "cell_type": "markdown",
   "id": "c2ac2df6",
   "metadata": {},
   "source": [
    "### In-Class Activity L8-1: Instructor and School Learning Scores"
   ]
  },
  {
   "cell_type": "code",
   "execution_count": 2,
   "id": "78170c07",
   "metadata": {},
   "outputs": [
    {
     "data": {
      "text/html": [
       "<div>\n",
       "<style scoped>\n",
       "    .dataframe tbody tr th:only-of-type {\n",
       "        vertical-align: middle;\n",
       "    }\n",
       "\n",
       "    .dataframe tbody tr th {\n",
       "        vertical-align: top;\n",
       "    }\n",
       "\n",
       "    .dataframe thead th {\n",
       "        text-align: right;\n",
       "    }\n",
       "</style>\n",
       "<table border=\"1\" class=\"dataframe\">\n",
       "  <thead>\n",
       "    <tr style=\"text-align: right;\">\n",
       "      <th></th>\n",
       "      <th>Score</th>\n",
       "      <th>School</th>\n",
       "      <th>Instructor</th>\n",
       "      <th>Session</th>\n",
       "    </tr>\n",
       "  </thead>\n",
       "  <tbody>\n",
       "    <tr>\n",
       "      <th>0</th>\n",
       "      <td>25</td>\n",
       "      <td>1</td>\n",
       "      <td>1</td>\n",
       "      <td>1</td>\n",
       "    </tr>\n",
       "    <tr>\n",
       "      <th>1</th>\n",
       "      <td>29</td>\n",
       "      <td>1</td>\n",
       "      <td>1</td>\n",
       "      <td>2</td>\n",
       "    </tr>\n",
       "    <tr>\n",
       "      <th>2</th>\n",
       "      <td>14</td>\n",
       "      <td>1</td>\n",
       "      <td>2</td>\n",
       "      <td>1</td>\n",
       "    </tr>\n",
       "    <tr>\n",
       "      <th>3</th>\n",
       "      <td>11</td>\n",
       "      <td>1</td>\n",
       "      <td>2</td>\n",
       "      <td>2</td>\n",
       "    </tr>\n",
       "    <tr>\n",
       "      <th>4</th>\n",
       "      <td>11</td>\n",
       "      <td>2</td>\n",
       "      <td>1</td>\n",
       "      <td>1</td>\n",
       "    </tr>\n",
       "    <tr>\n",
       "      <th>5</th>\n",
       "      <td>6</td>\n",
       "      <td>2</td>\n",
       "      <td>1</td>\n",
       "      <td>2</td>\n",
       "    </tr>\n",
       "    <tr>\n",
       "      <th>6</th>\n",
       "      <td>22</td>\n",
       "      <td>2</td>\n",
       "      <td>2</td>\n",
       "      <td>1</td>\n",
       "    </tr>\n",
       "    <tr>\n",
       "      <th>7</th>\n",
       "      <td>18</td>\n",
       "      <td>2</td>\n",
       "      <td>2</td>\n",
       "      <td>2</td>\n",
       "    </tr>\n",
       "    <tr>\n",
       "      <th>8</th>\n",
       "      <td>17</td>\n",
       "      <td>3</td>\n",
       "      <td>1</td>\n",
       "      <td>1</td>\n",
       "    </tr>\n",
       "    <tr>\n",
       "      <th>9</th>\n",
       "      <td>20</td>\n",
       "      <td>3</td>\n",
       "      <td>1</td>\n",
       "      <td>2</td>\n",
       "    </tr>\n",
       "    <tr>\n",
       "      <th>10</th>\n",
       "      <td>5</td>\n",
       "      <td>3</td>\n",
       "      <td>2</td>\n",
       "      <td>1</td>\n",
       "    </tr>\n",
       "    <tr>\n",
       "      <th>11</th>\n",
       "      <td>2</td>\n",
       "      <td>3</td>\n",
       "      <td>2</td>\n",
       "      <td>2</td>\n",
       "    </tr>\n",
       "  </tbody>\n",
       "</table>\n",
       "</div>"
      ],
      "text/plain": [
       "    Score  School  Instructor  Session\n",
       "0      25       1           1        1\n",
       "1      29       1           1        2\n",
       "2      14       1           2        1\n",
       "3      11       1           2        2\n",
       "4      11       2           1        1\n",
       "5       6       2           1        2\n",
       "6      22       2           2        1\n",
       "7      18       2           2        2\n",
       "8      17       3           1        1\n",
       "9      20       3           1        2\n",
       "10      5       3           2        1\n",
       "11      2       3           2        2"
      ]
     },
     "execution_count": 2,
     "metadata": {},
     "output_type": "execute_result"
    }
   ],
   "source": [
    "df = pd.read_excel('data/score.xlsx')\n",
    "df"
   ]
  },
  {
   "cell_type": "code",
   "execution_count": 11,
   "id": "1c6b0ddd",
   "metadata": {},
   "outputs": [],
   "source": [
    "from statsmodels.formula.api import ols\n",
    "import statsmodels.api as sm\n",
    "\n",
    "formula = 'Score ~ C(School) + C(Instructor) + C(School):C(Instructor)'\n",
    "score_lm = ols(formula, data=df).fit()"
   ]
  },
  {
   "cell_type": "code",
   "execution_count": 12,
   "id": "f6b018cc",
   "metadata": {},
   "outputs": [
    {
     "data": {
      "text/html": [
       "<table class=\"simpletable\">\n",
       "<tr>\n",
       "        <td>Model:</td>               <td>OLS</td>         <td>Adj. R-squared:</td>    <td>0.899</td> \n",
       "</tr>\n",
       "<tr>\n",
       "  <td>Dependent Variable:</td>       <td>Score</td>             <td>AIC:</td>         <td>61.0877</td>\n",
       "</tr>\n",
       "<tr>\n",
       "         <td>Date:</td>        <td>2021-10-28 09:55</td>        <td>BIC:</td>         <td>63.9971</td>\n",
       "</tr>\n",
       "<tr>\n",
       "   <td>No. Observations:</td>         <td>12</td>          <td>Log-Likelihood:</td>   <td>-24.544</td>\n",
       "</tr>\n",
       "<tr>\n",
       "       <td>Df Model:</td>              <td>5</td>           <td>F-statistic:</td>      <td>20.69</td> \n",
       "</tr>\n",
       "<tr>\n",
       "     <td>Df Residuals:</td>            <td>6</td>        <td>Prob (F-statistic):</td> <td>0.00102</td>\n",
       "</tr>\n",
       "<tr>\n",
       "      <td>R-squared:</td>            <td>0.945</td>            <td>Scale:</td>        <td>7.0000</td> \n",
       "</tr>\n",
       "</table>\n",
       "<table class=\"simpletable\">\n",
       "<tr>\n",
       "                  <td></td>                    <th>Coef.</th>  <th>Std.Err.</th>    <th>t</th>     <th>P>|t|</th>  <th>[0.025</th>   <th>0.975]</th> \n",
       "</tr>\n",
       "<tr>\n",
       "  <th>Intercept</th>                          <td>27.0000</td>  <td>1.8708</td>  <td>14.4321</td> <td>0.0000</td>  <td>22.4222</td>  <td>31.5778</td>\n",
       "</tr>\n",
       "<tr>\n",
       "  <th>C(School)[T.2]</th>                    <td>-18.5000</td>  <td>2.6458</td>  <td>-6.9923</td> <td>0.0004</td> <td>-24.9739</td> <td>-12.0261</td>\n",
       "</tr>\n",
       "<tr>\n",
       "  <th>C(School)[T.3]</th>                     <td>-8.5000</td>  <td>2.6458</td>  <td>-3.2127</td> <td>0.0183</td> <td>-14.9739</td>  <td>-2.0261</td>\n",
       "</tr>\n",
       "<tr>\n",
       "  <th>C(Instructor)[T.2]</th>                <td>-14.5000</td>  <td>2.6458</td>  <td>-5.4805</td> <td>0.0015</td> <td>-20.9739</td>  <td>-8.0261</td>\n",
       "</tr>\n",
       "<tr>\n",
       "  <th>C(School)[T.2]:C(Instructor)[T.2]</th>  <td>26.0000</td>  <td>3.7417</td>  <td>6.9488</td>  <td>0.0004</td>  <td>16.8445</td>  <td>35.1555</td>\n",
       "</tr>\n",
       "<tr>\n",
       "  <th>C(School)[T.3]:C(Instructor)[T.2]</th>  <td>-0.5000</td>  <td>3.7417</td>  <td>-0.1336</td> <td>0.8981</td>  <td>-9.6555</td>  <td>8.6555</td> \n",
       "</tr>\n",
       "</table>\n",
       "<table class=\"simpletable\">\n",
       "<tr>\n",
       "     <td>Omnibus:</td>    <td>9.957</td>  <td>Durbin-Watson:</td>   <td>2.875</td>\n",
       "</tr>\n",
       "<tr>\n",
       "  <td>Prob(Omnibus):</td> <td>0.007</td> <td>Jarque-Bera (JB):</td> <td>1.668</td>\n",
       "</tr>\n",
       "<tr>\n",
       "       <td>Skew:</td>     <td>0.000</td>     <td>Prob(JB):</td>     <td>0.434</td>\n",
       "</tr>\n",
       "<tr>\n",
       "     <td>Kurtosis:</td>   <td>1.173</td>  <td>Condition No.:</td>    <td>10</td>  \n",
       "</tr>\n",
       "</table>"
      ],
      "text/plain": [
       "<class 'statsmodels.iolib.summary2.Summary'>\n",
       "\"\"\"\n",
       "                          Results: Ordinary least squares\n",
       "====================================================================================\n",
       "Model:                      OLS                    Adj. R-squared:           0.899  \n",
       "Dependent Variable:         Score                  AIC:                      61.0877\n",
       "Date:                       2021-10-28 09:55       BIC:                      63.9971\n",
       "No. Observations:           12                     Log-Likelihood:           -24.544\n",
       "Df Model:                   5                      F-statistic:              20.69  \n",
       "Df Residuals:               6                      Prob (F-statistic):       0.00102\n",
       "R-squared:                  0.945                  Scale:                    7.0000 \n",
       "------------------------------------------------------------------------------------\n",
       "                                   Coef.   Std.Err.    t    P>|t|   [0.025   0.975] \n",
       "------------------------------------------------------------------------------------\n",
       "Intercept                          27.0000   1.8708 14.4321 0.0000  22.4222  31.5778\n",
       "C(School)[T.2]                    -18.5000   2.6458 -6.9923 0.0004 -24.9739 -12.0261\n",
       "C(School)[T.3]                     -8.5000   2.6458 -3.2127 0.0183 -14.9739  -2.0261\n",
       "C(Instructor)[T.2]                -14.5000   2.6458 -5.4805 0.0015 -20.9739  -8.0261\n",
       "C(School)[T.2]:C(Instructor)[T.2]  26.0000   3.7417  6.9488 0.0004  16.8445  35.1555\n",
       "C(School)[T.3]:C(Instructor)[T.2]  -0.5000   3.7417 -0.1336 0.8981  -9.6555   8.6555\n",
       "------------------------------------------------------------------------------------\n",
       "Omnibus:                     9.957              Durbin-Watson:                 2.875\n",
       "Prob(Omnibus):               0.007              Jarque-Bera (JB):              1.668\n",
       "Skew:                        0.000              Prob(JB):                      0.434\n",
       "Kurtosis:                    1.173              Condition No.:                 10   \n",
       "====================================================================================\n",
       "\n",
       "\"\"\""
      ]
     },
     "execution_count": 12,
     "metadata": {},
     "output_type": "execute_result"
    }
   ],
   "source": [
    "score_lm.summary2()"
   ]
  },
  {
   "cell_type": "code",
   "execution_count": 13,
   "id": "e7a1e49e",
   "metadata": {},
   "outputs": [
    {
     "name": "stdout",
     "output_type": "stream",
     "text": [
      "                          df  sum_sq  mean_sq          F    PR(>F)\n",
      "C(School)                2.0   156.5    78.25  11.178571  0.009473\n",
      "C(Instructor)            1.0   108.0   108.00  15.428571  0.007731\n",
      "C(School):C(Instructor)  2.0   459.5   229.75  32.821429  0.000587\n",
      "Residual                 6.0    42.0     7.00        NaN       NaN\n"
     ]
    }
   ],
   "source": [
    "table = sm.stats.anova_lm(score_lm) \n",
    "print(table)"
   ]
  },
  {
   "cell_type": "code",
   "execution_count": 32,
   "id": "36f14a0a",
   "metadata": {},
   "outputs": [],
   "source": [
    "SS = 108.0 + 459.5"
   ]
  },
  {
   "cell_type": "code",
   "execution_count": 33,
   "id": "8729d2d0",
   "metadata": {},
   "outputs": [
    {
     "data": {
      "text/plain": [
       "27.023809523809522"
      ]
     },
     "execution_count": 33,
     "metadata": {},
     "output_type": "execute_result"
    }
   ],
   "source": [
    "(567.5/3)/7"
   ]
  },
  {
   "cell_type": "code",
   "execution_count": 16,
   "id": "4cdf2e7f",
   "metadata": {},
   "outputs": [
    {
     "data": {
      "text/plain": [
       "0.0006970134862605147"
      ]
     },
     "execution_count": 16,
     "metadata": {},
     "output_type": "execute_result"
    }
   ],
   "source": [
    "from scipy import stats\n",
    "\n",
    "stats.f.sf((567.5/3)/7,3,6)"
   ]
  },
  {
   "cell_type": "markdown",
   "id": "f7582a3f",
   "metadata": {},
   "source": [
    "### In-Class Activity L8-2: Variance Component in Nested Design"
   ]
  },
  {
   "cell_type": "code",
   "execution_count": 39,
   "id": "385fabff",
   "metadata": {},
   "outputs": [
    {
     "data": {
      "text/plain": [
       "1.7100000000000002"
      ]
     },
     "execution_count": 39,
     "metadata": {},
     "output_type": "execute_result"
    }
   ],
   "source": [
    "Sigma = (7.769-2.639)/3\n",
    "Sigma"
   ]
  },
  {
   "cell_type": "markdown",
   "id": "ee3063f7",
   "metadata": {},
   "source": [
    "95% confidence "
   ]
  },
  {
   "cell_type": "code",
   "execution_count": 40,
   "id": "d34ca35d",
   "metadata": {},
   "outputs": [],
   "source": [
    "n = 3"
   ]
  },
  {
   "cell_type": "code",
   "execution_count": 41,
   "id": "38dc2d8a",
   "metadata": {},
   "outputs": [
    {
     "data": {
      "text/plain": [
       "3.7614091069612767"
      ]
     },
     "execution_count": 41,
     "metadata": {},
     "output_type": "execute_result"
    }
   ],
   "source": [
    "df = (((7.769/n)-(2.639/n))**2)/((((7.769/n)**2)/9)+(((2.639/n)**2)/24))\n",
    "df"
   ]
  },
  {
   "cell_type": "code",
   "execution_count": 46,
   "id": "5ed0be61",
   "metadata": {},
   "outputs": [
    {
     "name": "stdout",
     "output_type": "stream",
     "text": [
      "0.5487567949604476\n",
      "23.772530787621054\n"
     ]
    }
   ],
   "source": [
    "df = 3\n",
    "print((df*Sigma)/stats.chi2.isf(0.05/2,df))\n",
    "print((df*Sigma)/stats.chi2.isf(1-(0.05/2),df))"
   ]
  },
  {
   "cell_type": "code",
   "execution_count": null,
   "id": "cbc73807",
   "metadata": {},
   "outputs": [],
   "source": [
    "variance component ของ supplier = 3.76"
   ]
  }
 ],
 "metadata": {
  "kernelspec": {
   "display_name": "Python 3 (ipykernel)",
   "language": "python",
   "name": "python3"
  },
  "language_info": {
   "codemirror_mode": {
    "name": "ipython",
    "version": 3
   },
   "file_extension": ".py",
   "mimetype": "text/x-python",
   "name": "python",
   "nbconvert_exporter": "python",
   "pygments_lexer": "ipython3",
   "version": "3.8.8"
  }
 },
 "nbformat": 4,
 "nbformat_minor": 5
}
