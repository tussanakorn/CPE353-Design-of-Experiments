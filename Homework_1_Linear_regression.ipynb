{
 "cells": [
  {
   "cell_type": "code",
   "execution_count": 1,
   "metadata": {
    "colab": {
     "base_uri": "https://localhost:8080/"
    },
    "id": "TzllEIk49-DP",
    "outputId": "3fbf2d31-9152-4869-acda-1cfea4c550a7"
   },
   "outputs": [
    {
     "name": "stdout",
     "output_type": "stream",
     "text": [
      "\n",
      "Enabling interactive shell outputs ...\n",
      "   Use command pass; to disable cell text outputs\n"
     ]
    }
   ],
   "source": [
    "print('\\nEnabling interactive shell outputs ...')\n",
    "print('   Use command pass; to disable cell text outputs')\n",
    "from IPython.core.interactiveshell import InteractiveShell\n",
    "InteractiveShell.ast_node_interactivity = \"all\"\n",
    "\n",
    "import warnings\n",
    "warnings.filterwarnings('ignore') \n",
    "warnings.simplefilter(action=\"ignore\",category=UserWarning)\n",
    "warnings.simplefilter(action=\"ignore\",category=FutureWarning)"
   ]
  },
  {
   "cell_type": "markdown",
   "metadata": {
    "id": "vme-B39M9rsZ"
   },
   "source": [
    "## Linear Regression 1"
   ]
  },
  {
   "cell_type": "code",
   "execution_count": 2,
   "metadata": {
    "id": "7vy5e4BX-AiX"
   },
   "outputs": [],
   "source": [
    "import pandas as pd\n",
    "import statsmodels.api as sm \n",
    "from statsmodels.formula.api import ols\n",
    "import numpy as np\n",
    "import seaborn as sns\n",
    "import matplotlib.pyplot as plt"
   ]
  },
  {
   "cell_type": "code",
   "execution_count": 3,
   "metadata": {
    "colab": {
     "base_uri": "https://localhost:8080/",
     "height": 362
    },
    "id": "84-wNCzT-E4r",
    "outputId": "f1a1b3db-428b-41b8-db67-3eb2f2e3354b"
   },
   "outputs": [
    {
     "data": {
      "text/html": [
       "<div>\n",
       "<style scoped>\n",
       "    .dataframe tbody tr th:only-of-type {\n",
       "        vertical-align: middle;\n",
       "    }\n",
       "\n",
       "    .dataframe tbody tr th {\n",
       "        vertical-align: top;\n",
       "    }\n",
       "\n",
       "    .dataframe thead th {\n",
       "        text-align: right;\n",
       "    }\n",
       "</style>\n",
       "<table border=\"1\" class=\"dataframe\">\n",
       "  <thead>\n",
       "    <tr style=\"text-align: right;\">\n",
       "      <th></th>\n",
       "      <th>Strength</th>\n",
       "      <th>Percent_Hardwood</th>\n",
       "    </tr>\n",
       "  </thead>\n",
       "  <tbody>\n",
       "    <tr>\n",
       "      <th>0</th>\n",
       "      <td>160</td>\n",
       "      <td>10</td>\n",
       "    </tr>\n",
       "    <tr>\n",
       "      <th>1</th>\n",
       "      <td>171</td>\n",
       "      <td>15</td>\n",
       "    </tr>\n",
       "    <tr>\n",
       "      <th>2</th>\n",
       "      <td>175</td>\n",
       "      <td>15</td>\n",
       "    </tr>\n",
       "    <tr>\n",
       "      <th>3</th>\n",
       "      <td>182</td>\n",
       "      <td>20</td>\n",
       "    </tr>\n",
       "    <tr>\n",
       "      <th>4</th>\n",
       "      <td>184</td>\n",
       "      <td>20</td>\n",
       "    </tr>\n",
       "    <tr>\n",
       "      <th>5</th>\n",
       "      <td>181</td>\n",
       "      <td>20</td>\n",
       "    </tr>\n",
       "    <tr>\n",
       "      <th>6</th>\n",
       "      <td>188</td>\n",
       "      <td>25</td>\n",
       "    </tr>\n",
       "    <tr>\n",
       "      <th>7</th>\n",
       "      <td>193</td>\n",
       "      <td>25</td>\n",
       "    </tr>\n",
       "    <tr>\n",
       "      <th>8</th>\n",
       "      <td>195</td>\n",
       "      <td>28</td>\n",
       "    </tr>\n",
       "    <tr>\n",
       "      <th>9</th>\n",
       "      <td>200</td>\n",
       "      <td>30</td>\n",
       "    </tr>\n",
       "  </tbody>\n",
       "</table>\n",
       "</div>"
      ],
      "text/plain": [
       "   Strength  Percent_Hardwood\n",
       "0       160                10\n",
       "1       171                15\n",
       "2       175                15\n",
       "3       182                20\n",
       "4       184                20\n",
       "5       181                20\n",
       "6       188                25\n",
       "7       193                25\n",
       "8       195                28\n",
       "9       200                30"
      ]
     },
     "execution_count": 3,
     "metadata": {},
     "output_type": "execute_result"
    }
   ],
   "source": [
    "data = {'Strength':[160,171,175,182,184,181,188,193,195,200],'Percent_Hardwood':[10,15,15,20,20,20,25,25,28,30]}\n",
    "df = pd.DataFrame(data)\n",
    "df.head(10)"
   ]
  },
  {
   "cell_type": "code",
   "execution_count": 4,
   "metadata": {
    "id": "mQfVnvv5Nwnc"
   },
   "outputs": [],
   "source": [
    "Y = df.Strength\n",
    "X = df.Percent_Hardwood"
   ]
  },
  {
   "cell_type": "code",
   "execution_count": 5,
   "metadata": {
    "colab": {
     "base_uri": "https://localhost:8080/",
     "height": 283
    },
    "id": "Pemue1udPuGO",
    "outputId": "61da4ed1-9b62-4491-ee9c-731c0b6759cc"
   },
   "outputs": [
    {
     "data": {
      "text/plain": [
       "<matplotlib.collections.PathCollection at 0x13dce27a5e0>"
      ]
     },
     "execution_count": 5,
     "metadata": {},
     "output_type": "execute_result"
    },
    {
     "data": {
      "image/png": "[encoded data removed]",
      "text/plain": [
       "<Figure size 432x288 with 1 Axes>"
      ]
     },
     "metadata": {
      "needs_background": "light"
     },
     "output_type": "display_data"
    }
   ],
   "source": [
    "plt.scatter(X,Y)\n",
    "plt.show()"
   ]
  },
  {
   "cell_type": "code",
   "execution_count": 6,
   "metadata": {
    "id": "5gNGsBu4KsI8"
   },
   "outputs": [],
   "source": [
    "formula = 'Strength ~ Percent_Hardwood'\n",
    "tensile_lm = ols(formula, data=df).fit()"
   ]
  },
  {
   "cell_type": "code",
   "execution_count": 7,
   "metadata": {
    "id": "xkkk8s4oQkrp"
   },
   "outputs": [],
   "source": [
    "y_predict = tensile_lm.predict(X)"
   ]
  },
  {
   "cell_type": "code",
   "execution_count": 8,
   "metadata": {
    "colab": {
     "base_uri": "https://localhost:8080/",
     "height": 283
    },
    "id": "IB9Oi1YLP7bK",
    "outputId": "ff76c4e3-15b6-42a0-80ca-61156cb11826"
   },
   "outputs": [
    {
     "data": {
      "text/plain": [
       "[<matplotlib.lines.Line2D at 0x13dce39efa0>]"
      ]
     },
     "execution_count": 8,
     "metadata": {},
     "output_type": "execute_result"
    },
    {
     "data": {
      "text/plain": [
       "<matplotlib.collections.PathCollection at 0x13dce342ee0>"
      ]
     },
     "execution_count": 8,
     "metadata": {},
     "output_type": "execute_result"
    },
    {
     "data": {
      "image/png": "[encoded data removed]",
      "text/plain": [
       "<Figure size 432x288 with 1 Axes>"
      ]
     },
     "metadata": {
      "needs_background": "light"
     },
     "output_type": "display_data"
    }
   ],
   "source": [
    "plt.plot(X,y_predict, c=\"r\")\n",
    "plt.scatter(X,Y)\n",
    "plt.show()"
   ]
  },
  {
   "cell_type": "code",
   "execution_count": 9,
   "metadata": {
    "colab": {
     "base_uri": "https://localhost:8080/"
    },
    "id": "gphugDcHNbk5",
    "outputId": "050452b8-6447-473c-b003-f8cbafa08026"
   },
   "outputs": [
    {
     "name": "stdout",
     "output_type": "stream",
     "text": [
      "4    20\n",
      "Name: Percent_Hardwood, dtype: int64\n",
      "   const  Percent_Hardwood\n",
      "4    1.0                20\n",
      "Y_predict :  [181.39709172]\n"
     ]
    }
   ],
   "source": [
    "# Making prediction\n",
    "\n",
    "Xk = X.iloc[[4]]\n",
    "print(Xk)\n",
    "\n",
    "Xreg_k = sm.add_constant(Xk, has_constant='add') \n",
    "print(Xreg_k)\n",
    "\n",
    "Yk = np.array(tensile_lm.predict(exog=Xreg_k))\n",
    "print(\"Y_predict : \",Yk)"
   ]
  },
  {
   "cell_type": "code",
   "execution_count": 10,
   "metadata": {
    "colab": {
     "base_uri": "https://localhost:8080/"
    },
    "id": "A4Z5gRT0M3p-",
    "outputId": "dcd9ed10-c54c-40ff-aa7d-e937d2572456"
   },
   "outputs": [
    {
     "name": "stdout",
     "output_type": "stream",
     "text": [
      "Sum of Squared Errors (SSE): 38.83\n",
      "Sum of Squared Regression (SSR): 1262.07\n",
      "Sum of Squared Total (SST): 1300.90\n",
      "Residual df (n-p): 8\n",
      "Mean Squared errors (MSE): 4.85\n",
      "Standard Errors (Se): 2.20\n"
     ]
    }
   ],
   "source": [
    "print(\"Sum of Squared Errors (SSE): {:.2f}\".format(tensile_lm.ssr)) # Sum of Squares Residuals\n",
    "print(\"Sum of Squared Regression (SSR): {:.2f}\".format(tensile_lm.ess)) # Explained sum of squares\n",
    "print(\"Sum of Squared Total (SST): {:.2f}\".format(tensile_lm.centered_tss)) # Total sum of squares\n",
    "print(\"Residual df (n-p): {:.0f}\".format(tensile_lm.df_resid))\n",
    "print(\"Mean Squared errors (MSE): {:.2f}\".format(tensile_lm.mse_resid))\n",
    "print(\"Standard Errors (Se): {:.2f}\".format(np.sqrt(tensile_lm.mse_resid)))"
   ]
  },
  {
   "cell_type": "code",
   "execution_count": 11,
   "metadata": {
    "colab": {
     "base_uri": "https://localhost:8080/"
    },
    "id": "_9uVPBH_M5Cd",
    "outputId": "5df9b18e-3dd6-4640-bb14-442f4e910893"
   },
   "outputs": [
    {
     "name": "stdout",
     "output_type": "stream",
     "text": [
      "R-squared: 0.970\n",
      "Adjusted R-squared: 0.966\n"
     ]
    }
   ],
   "source": [
    "print(\"R-squared: {:.3f}\".format(tensile_lm.rsquared))\n",
    "print(\"Adjusted R-squared: {:.3f}\".format(tensile_lm.rsquared_adj))"
   ]
  },
  {
   "cell_type": "code",
   "execution_count": 12,
   "metadata": {
    "colab": {
     "base_uri": "https://localhost:8080/",
     "height": 317
    },
    "id": "5jkpmXm3MoDl",
    "outputId": "ad2691fd-ed4b-4168-f2e9-74cd1d80a462"
   },
   "outputs": [
    {
     "data": {
      "text/html": [
       "<table class=\"simpletable\">\n",
       "<tr>\n",
       "        <td>Model:</td>               <td>OLS</td>         <td>Adj. R-squared:</td>     <td>0.966</td> \n",
       "</tr>\n",
       "<tr>\n",
       "  <td>Dependent Variable:</td>     <td>Strength</td>            <td>AIC:</td>          <td>45.9456</td>\n",
       "</tr>\n",
       "<tr>\n",
       "         <td>Date:</td>        <td>2021-10-06 15:34</td>        <td>BIC:</td>          <td>46.5507</td>\n",
       "</tr>\n",
       "<tr>\n",
       "   <td>No. Observations:</td>         <td>10</td>          <td>Log-Likelihood:</td>    <td>-20.973</td>\n",
       "</tr>\n",
       "<tr>\n",
       "       <td>Df Model:</td>              <td>1</td>           <td>F-statistic:</td>       <td>260.0</td> \n",
       "</tr>\n",
       "<tr>\n",
       "     <td>Df Residuals:</td>            <td>8</td>        <td>Prob (F-statistic):</td> <td>2.20e-07</td>\n",
       "</tr>\n",
       "<tr>\n",
       "      <td>R-squared:</td>            <td>0.970</td>            <td>Scale:</td>         <td>4.8541</td> \n",
       "</tr>\n",
       "</table>\n",
       "<table class=\"simpletable\">\n",
       "<tr>\n",
       "          <td></td>           <th>Coef.</th>  <th>Std.Err.</th>    <th>t</th>     <th>P>|t|</th>  <th>[0.025</th>   <th>0.975]</th> \n",
       "</tr>\n",
       "<tr>\n",
       "  <th>Intercept</th>        <td>143.8244</td>  <td>2.5215</td>  <td>57.0386</td> <td>0.0000</td> <td>138.0097</td> <td>149.6390</td>\n",
       "</tr>\n",
       "<tr>\n",
       "  <th>Percent_Hardwood</th>  <td>1.8786</td>   <td>0.1165</td>  <td>16.1245</td> <td>0.0000</td>  <td>1.6100</td>   <td>2.1473</td> \n",
       "</tr>\n",
       "</table>\n",
       "<table class=\"simpletable\">\n",
       "<tr>\n",
       "     <td>Omnibus:</td>    <td>1.211</td>  <td>Durbin-Watson:</td>   <td>2.132</td>\n",
       "</tr>\n",
       "<tr>\n",
       "  <td>Prob(Omnibus):</td> <td>0.546</td> <td>Jarque-Bera (JB):</td> <td>0.701</td>\n",
       "</tr>\n",
       "<tr>\n",
       "       <td>Skew:</td>     <td>0.157</td>     <td>Prob(JB):</td>     <td>0.704</td>\n",
       "</tr>\n",
       "<tr>\n",
       "     <td>Kurtosis:</td>   <td>1.742</td>  <td>Condition No.:</td>    <td>78</td>  \n",
       "</tr>\n",
       "</table>"
      ],
      "text/plain": [
       "<class 'statsmodels.iolib.summary2.Summary'>\n",
       "\"\"\"\n",
       "                  Results: Ordinary least squares\n",
       "===================================================================\n",
       "Model:                OLS              Adj. R-squared:     0.966   \n",
       "Dependent Variable:   Strength         AIC:                45.9456 \n",
       "Date:                 2021-10-06 15:34 BIC:                46.5507 \n",
       "No. Observations:     10               Log-Likelihood:     -20.973 \n",
       "Df Model:             1                F-statistic:        260.0   \n",
       "Df Residuals:         8                Prob (F-statistic): 2.20e-07\n",
       "R-squared:            0.970            Scale:              4.8541  \n",
       "-------------------------------------------------------------------\n",
       "                  Coef.   Std.Err.    t    P>|t|   [0.025   0.975] \n",
       "-------------------------------------------------------------------\n",
       "Intercept        143.8244   2.5215 57.0386 0.0000 138.0097 149.6390\n",
       "Percent_Hardwood   1.8786   0.1165 16.1245 0.0000   1.6100   2.1473\n",
       "-------------------------------------------------------------------\n",
       "Omnibus:                1.211        Durbin-Watson:           2.132\n",
       "Prob(Omnibus):          0.546        Jarque-Bera (JB):        0.701\n",
       "Skew:                   0.157        Prob(JB):                0.704\n",
       "Kurtosis:               1.742        Condition No.:           78   \n",
       "===================================================================\n",
       "\n",
       "\"\"\""
      ]
     },
     "execution_count": 12,
     "metadata": {},
     "output_type": "execute_result"
    }
   ],
   "source": [
    "tensile_lm.summary2()"
   ]
  },
  {
   "cell_type": "markdown",
   "metadata": {
    "id": "Pf_c2JJiR4o7"
   },
   "source": [
    "**ข้อ 2**"
   ]
  },
  {
   "cell_type": "code",
   "execution_count": 13,
   "metadata": {
    "colab": {
     "base_uri": "https://localhost:8080/"
    },
    "id": "QddH2J_j9Zlp",
    "outputId": "37bd6cca-668e-47a9-88b6-83bf69e9890d"
   },
   "outputs": [],
   "source": [
    "#!gdown --id 1urdu6mBbYDoMtktmqNwLRzKh0fr6I5f5"
   ]
  },
  {
   "cell_type": "code",
   "execution_count": 15,
   "metadata": {
    "id": "hqH_fUjn-I-U"
   },
   "outputs": [],
   "source": [
    "co_smoke = pd.read_excel(\"data/lect02-lin-reg.xlsx\", sheet_name=\"CO-smoke\",header=0)"
   ]
  },
  {
   "cell_type": "code",
   "execution_count": 16,
   "metadata": {
    "colab": {
     "base_uri": "https://localhost:8080/",
     "height": 205
    },
    "id": "FQ-DSrZ7SXmQ",
    "outputId": "bbc50f34-e17c-49bb-ad28-c160e71c323e"
   },
   "outputs": [
    {
     "data": {
      "text/html": [
       "<div>\n",
       "<style scoped>\n",
       "    .dataframe tbody tr th:only-of-type {\n",
       "        vertical-align: middle;\n",
       "    }\n",
       "\n",
       "    .dataframe tbody tr th {\n",
       "        vertical-align: top;\n",
       "    }\n",
       "\n",
       "    .dataframe thead th {\n",
       "        text-align: right;\n",
       "    }\n",
       "</style>\n",
       "<table border=\"1\" class=\"dataframe\">\n",
       "  <thead>\n",
       "    <tr style=\"text-align: right;\">\n",
       "      <th></th>\n",
       "      <th>TAR</th>\n",
       "      <th>NICOTINE</th>\n",
       "      <th>WEIGHT</th>\n",
       "      <th>CO</th>\n",
       "    </tr>\n",
       "  </thead>\n",
       "  <tbody>\n",
       "    <tr>\n",
       "      <th>0</th>\n",
       "      <td>14.1</td>\n",
       "      <td>0.86</td>\n",
       "      <td>0.9853</td>\n",
       "      <td>13.6</td>\n",
       "    </tr>\n",
       "    <tr>\n",
       "      <th>1</th>\n",
       "      <td>16.0</td>\n",
       "      <td>1.06</td>\n",
       "      <td>1.0938</td>\n",
       "      <td>16.6</td>\n",
       "    </tr>\n",
       "    <tr>\n",
       "      <th>2</th>\n",
       "      <td>29.8</td>\n",
       "      <td>2.03</td>\n",
       "      <td>1.1650</td>\n",
       "      <td>23.5</td>\n",
       "    </tr>\n",
       "    <tr>\n",
       "      <th>3</th>\n",
       "      <td>8.0</td>\n",
       "      <td>0.67</td>\n",
       "      <td>0.9280</td>\n",
       "      <td>10.2</td>\n",
       "    </tr>\n",
       "    <tr>\n",
       "      <th>4</th>\n",
       "      <td>4.1</td>\n",
       "      <td>0.40</td>\n",
       "      <td>0.9462</td>\n",
       "      <td>5.4</td>\n",
       "    </tr>\n",
       "  </tbody>\n",
       "</table>\n",
       "</div>"
      ],
      "text/plain": [
       "    TAR  NICOTINE  WEIGHT    CO\n",
       "0  14.1      0.86  0.9853  13.6\n",
       "1  16.0      1.06  1.0938  16.6\n",
       "2  29.8      2.03  1.1650  23.5\n",
       "3   8.0      0.67  0.9280  10.2\n",
       "4   4.1      0.40  0.9462   5.4"
      ]
     },
     "execution_count": 16,
     "metadata": {},
     "output_type": "execute_result"
    }
   ],
   "source": [
    "co_smoke.head()"
   ]
  },
  {
   "cell_type": "code",
   "execution_count": 17,
   "metadata": {
    "colab": {
     "base_uri": "https://localhost:8080/",
     "height": 299
    },
    "id": "HM4w6f_wSY7B",
    "outputId": "d5e5ba1c-1cbf-4ca2-fdd6-55dcaa5d842d"
   },
   "outputs": [
    {
     "data": {
      "text/html": [
       "<div>\n",
       "<style scoped>\n",
       "    .dataframe tbody tr th:only-of-type {\n",
       "        vertical-align: middle;\n",
       "    }\n",
       "\n",
       "    .dataframe tbody tr th {\n",
       "        vertical-align: top;\n",
       "    }\n",
       "\n",
       "    .dataframe thead th {\n",
       "        text-align: right;\n",
       "    }\n",
       "</style>\n",
       "<table border=\"1\" class=\"dataframe\">\n",
       "  <thead>\n",
       "    <tr style=\"text-align: right;\">\n",
       "      <th></th>\n",
       "      <th>TAR</th>\n",
       "      <th>NICOTINE</th>\n",
       "      <th>WEIGHT</th>\n",
       "      <th>CO</th>\n",
       "    </tr>\n",
       "  </thead>\n",
       "  <tbody>\n",
       "    <tr>\n",
       "      <th>count</th>\n",
       "      <td>25.00000</td>\n",
       "      <td>25.000000</td>\n",
       "      <td>25.000000</td>\n",
       "      <td>25.000000</td>\n",
       "    </tr>\n",
       "    <tr>\n",
       "      <th>mean</th>\n",
       "      <td>12.21600</td>\n",
       "      <td>0.876400</td>\n",
       "      <td>0.970284</td>\n",
       "      <td>12.528000</td>\n",
       "    </tr>\n",
       "    <tr>\n",
       "      <th>std</th>\n",
       "      <td>5.66581</td>\n",
       "      <td>0.354058</td>\n",
       "      <td>0.087721</td>\n",
       "      <td>4.739684</td>\n",
       "    </tr>\n",
       "    <tr>\n",
       "      <th>min</th>\n",
       "      <td>1.00000</td>\n",
       "      <td>0.130000</td>\n",
       "      <td>0.785100</td>\n",
       "      <td>1.500000</td>\n",
       "    </tr>\n",
       "    <tr>\n",
       "      <th>25%</th>\n",
       "      <td>8.60000</td>\n",
       "      <td>0.690000</td>\n",
       "      <td>0.922500</td>\n",
       "      <td>10.000000</td>\n",
       "    </tr>\n",
       "    <tr>\n",
       "      <th>50%</th>\n",
       "      <td>12.80000</td>\n",
       "      <td>0.900000</td>\n",
       "      <td>0.957300</td>\n",
       "      <td>13.000000</td>\n",
       "    </tr>\n",
       "    <tr>\n",
       "      <th>75%</th>\n",
       "      <td>15.10000</td>\n",
       "      <td>1.020000</td>\n",
       "      <td>1.007000</td>\n",
       "      <td>15.400000</td>\n",
       "    </tr>\n",
       "    <tr>\n",
       "      <th>max</th>\n",
       "      <td>29.80000</td>\n",
       "      <td>2.030000</td>\n",
       "      <td>1.165000</td>\n",
       "      <td>23.500000</td>\n",
       "    </tr>\n",
       "  </tbody>\n",
       "</table>\n",
       "</div>"
      ],
      "text/plain": [
       "            TAR   NICOTINE     WEIGHT         CO\n",
       "count  25.00000  25.000000  25.000000  25.000000\n",
       "mean   12.21600   0.876400   0.970284  12.528000\n",
       "std     5.66581   0.354058   0.087721   4.739684\n",
       "min     1.00000   0.130000   0.785100   1.500000\n",
       "25%     8.60000   0.690000   0.922500  10.000000\n",
       "50%    12.80000   0.900000   0.957300  13.000000\n",
       "75%    15.10000   1.020000   1.007000  15.400000\n",
       "max    29.80000   2.030000   1.165000  23.500000"
      ]
     },
     "execution_count": 17,
     "metadata": {},
     "output_type": "execute_result"
    }
   ],
   "source": [
    "co_smoke.describe()"
   ]
  },
  {
   "cell_type": "code",
   "execution_count": 18,
   "metadata": {
    "id": "Q-os-H9PSl1I"
   },
   "outputs": [],
   "source": [
    "Y = co_smoke.CO\n",
    "X = co_smoke.drop(\"CO\",axis=1)"
   ]
  },
  {
   "cell_type": "code",
   "execution_count": 19,
   "metadata": {
    "id": "RLCLzSbfS2kB"
   },
   "outputs": [],
   "source": [
    "formula = 'CO ~ TAR + NICOTINE + WEIGHT'"
   ]
  },
  {
   "cell_type": "code",
   "execution_count": 20,
   "metadata": {
    "id": "Es4d7dlATVDv"
   },
   "outputs": [],
   "source": [
    "co_smoke_lm = ols(formula,data=co_smoke).fit()"
   ]
  },
  {
   "cell_type": "code",
   "execution_count": 21,
   "metadata": {
    "colab": {
     "base_uri": "https://localhost:8080/"
    },
    "id": "iOTsA0KXThGS",
    "outputId": "7410a31d-06a2-49b0-b200-85c4e7c9ba84"
   },
   "outputs": [
    {
     "data": {
      "text/plain": [
       "Intercept    3.202190\n",
       "TAR          0.962574\n",
       "NICOTINE    -2.631661\n",
       "WEIGHT      -0.130482\n",
       "dtype: float64"
      ]
     },
     "execution_count": 21,
     "metadata": {},
     "output_type": "execute_result"
    }
   ],
   "source": [
    "co_smoke_lm.params"
   ]
  },
  {
   "cell_type": "code",
   "execution_count": 22,
   "metadata": {
    "colab": {
     "base_uri": "https://localhost:8080/"
    },
    "id": "6nHhxvPjWRGR",
    "outputId": "58613f7a-4121-4f69-854a-f8cd50058bea"
   },
   "outputs": [
    {
     "name": "stdout",
     "output_type": "stream",
     "text": [
      "Sum of Squared Errors (SSE): 43.89\n",
      "Sum of Squared Regression (SSR): 495.26\n",
      "Sum of Squared Total (SST): 539.15\n",
      "Residual df (n-p): 21\n",
      "Mean Squared errors (MSE): 2.09\n",
      "Standard Errors (Se): 1.45\n"
     ]
    }
   ],
   "source": [
    "print(\"Sum of Squared Errors (SSE): {:.2f}\".format(co_smoke_lm.ssr)) # Sum of Squares Residuals\n",
    "print(\"Sum of Squared Regression (SSR): {:.2f}\".format(co_smoke_lm.ess)) # Explained sum of squares\n",
    "print(\"Sum of Squared Total (SST): {:.2f}\".format(co_smoke_lm.centered_tss)) # Total sum of squares\n",
    "print(\"Residual df (n-p): {:.0f}\".format(co_smoke_lm.df_resid))\n",
    "print(\"Mean Squared errors (MSE): {:.2f}\".format(co_smoke_lm.mse_resid))\n",
    "print(\"Standard Errors (Se): {:.2f}\".format(np.sqrt(co_smoke_lm.mse_resid)))"
   ]
  },
  {
   "cell_type": "code",
   "execution_count": 23,
   "metadata": {
    "colab": {
     "base_uri": "https://localhost:8080/"
    },
    "id": "0qqbx7P5WURT",
    "outputId": "9eabcdff-7bfe-427c-fbff-1ff5e111fc9e"
   },
   "outputs": [
    {
     "name": "stdout",
     "output_type": "stream",
     "text": [
      "R-squared: 0.970\n",
      "Adjusted R-squared: 0.966\n"
     ]
    }
   ],
   "source": [
    "print(\"R-squared: {:.3f}\".format(tensile_lm.rsquared))\n",
    "print(\"Adjusted R-squared: {:.3f}\".format(tensile_lm.rsquared_adj))"
   ]
  },
  {
   "cell_type": "code",
   "execution_count": 24,
   "metadata": {
    "colab": {
     "base_uri": "https://localhost:8080/",
     "height": 297
    },
    "id": "aJR74udVT1aZ",
    "outputId": "95bc8b01-c111-4f08-afae-201de4cacdd4"
   },
   "outputs": [
    {
     "data": {
      "text/plain": [
       "<AxesSubplot:xlabel='TAR', ylabel='CO'>"
      ]
     },
     "execution_count": 24,
     "metadata": {},
     "output_type": "execute_result"
    },
    {
     "data": {
      "image/png": "[encoded data removed]",
      "text/plain": [
       "<Figure size 432x288 with 1 Axes>"
      ]
     },
     "metadata": {
      "needs_background": "light"
     },
     "output_type": "display_data"
    }
   ],
   "source": [
    "sns.regplot(x=\"TAR\" , y=\"CO\", data= co_smoke)"
   ]
  },
  {
   "cell_type": "code",
   "execution_count": 25,
   "metadata": {
    "colab": {
     "base_uri": "https://localhost:8080/",
     "height": 297
    },
    "id": "r2sQPFIoUAwE",
    "outputId": "d627604f-5e23-4ba3-f4ce-b693a5ccceac"
   },
   "outputs": [
    {
     "data": {
      "text/plain": [
       "<AxesSubplot:xlabel='NICOTINE', ylabel='CO'>"
      ]
     },
     "execution_count": 25,
     "metadata": {},
     "output_type": "execute_result"
    },
    {
     "data": {
      "image/png": "[encoded data removed]",
      "text/plain": [
       "<Figure size 432x288 with 1 Axes>"
      ]
     },
     "metadata": {
      "needs_background": "light"
     },
     "output_type": "display_data"
    }
   ],
   "source": [
    "sns.regplot(x=\"NICOTINE\" , y=\"CO\", data= co_smoke)"
   ]
  },
  {
   "cell_type": "code",
   "execution_count": 26,
   "metadata": {
    "colab": {
     "base_uri": "https://localhost:8080/",
     "height": 297
    },
    "id": "EN-zEKvEVFNc",
    "outputId": "7ed57a5d-1aa4-4b82-a024-9b49d863d434"
   },
   "outputs": [
    {
     "data": {
      "text/plain": [
       "<AxesSubplot:xlabel='WEIGHT', ylabel='CO'>"
      ]
     },
     "execution_count": 26,
     "metadata": {},
     "output_type": "execute_result"
    },
    {
     "data": {
      "image/png": "[encoded data removed]",
      "text/plain": [
       "<Figure size 432x288 with 1 Axes>"
      ]
     },
     "metadata": {
      "needs_background": "light"
     },
     "output_type": "display_data"
    }
   ],
   "source": [
    "sns.regplot(x=\"WEIGHT\" , y=\"CO\", data= co_smoke)"
   ]
  },
  {
   "cell_type": "code",
   "execution_count": 27,
   "metadata": {
    "colab": {
     "base_uri": "https://localhost:8080/",
     "height": 360
    },
    "id": "LNpCfte9VO3e",
    "outputId": "4d8fd6a0-ed6e-4eb2-a287-d4528f90bf25"
   },
   "outputs": [
    {
     "data": {
      "text/html": [
       "<table class=\"simpletable\">\n",
       "<tr>\n",
       "        <td>Model:</td>               <td>OLS</td>         <td>Adj. R-squared:</td>     <td>0.907</td> \n",
       "</tr>\n",
       "<tr>\n",
       "  <td>Dependent Variable:</td>        <td>CO</td>               <td>AIC:</td>          <td>93.0187</td>\n",
       "</tr>\n",
       "<tr>\n",
       "         <td>Date:</td>        <td>2021-10-06 15:35</td>        <td>BIC:</td>          <td>97.8942</td>\n",
       "</tr>\n",
       "<tr>\n",
       "   <td>No. Observations:</td>         <td>25</td>          <td>Log-Likelihood:</td>    <td>-42.509</td>\n",
       "</tr>\n",
       "<tr>\n",
       "       <td>Df Model:</td>              <td>3</td>           <td>F-statistic:</td>       <td>78.98</td> \n",
       "</tr>\n",
       "<tr>\n",
       "     <td>Df Residuals:</td>           <td>21</td>        <td>Prob (F-statistic):</td> <td>1.33e-11</td>\n",
       "</tr>\n",
       "<tr>\n",
       "      <td>R-squared:</td>            <td>0.919</td>            <td>Scale:</td>         <td>2.0901</td> \n",
       "</tr>\n",
       "</table>\n",
       "<table class=\"simpletable\">\n",
       "<tr>\n",
       "      <td></td>       <th>Coef.</th>  <th>Std.Err.</th>    <th>t</th>     <th>P>|t|</th>  <th>[0.025</th>  <th>0.975]</th> \n",
       "</tr>\n",
       "<tr>\n",
       "  <th>Intercept</th> <td>3.2022</td>   <td>3.4618</td>  <td>0.9250</td>  <td>0.3655</td>  <td>-3.9969</td> <td>10.4013</td>\n",
       "</tr>\n",
       "<tr>\n",
       "  <th>TAR</th>       <td>0.9626</td>   <td>0.2422</td>  <td>3.9736</td>  <td>0.0007</td>  <td>0.4588</td>  <td>1.4663</td> \n",
       "</tr>\n",
       "<tr>\n",
       "  <th>NICOTINE</th>  <td>-2.6317</td>  <td>3.9006</td>  <td>-0.6747</td> <td>0.5072</td> <td>-10.7433</td> <td>5.4800</td> \n",
       "</tr>\n",
       "<tr>\n",
       "  <th>WEIGHT</th>    <td>-0.1305</td>  <td>3.8853</td>  <td>-0.0336</td> <td>0.9735</td>  <td>-8.2105</td> <td>7.9495</td> \n",
       "</tr>\n",
       "</table>\n",
       "<table class=\"simpletable\">\n",
       "<tr>\n",
       "     <td>Omnibus:</td>     <td>0.052</td>  <td>Durbin-Watson:</td>   <td>2.860</td>\n",
       "</tr>\n",
       "<tr>\n",
       "  <td>Prob(Omnibus):</td>  <td>0.974</td> <td>Jarque-Bera (JB):</td> <td>0.223</td>\n",
       "</tr>\n",
       "<tr>\n",
       "       <td>Skew:</td>     <td>-0.087</td>     <td>Prob(JB):</td>     <td>0.895</td>\n",
       "</tr>\n",
       "<tr>\n",
       "     <td>Kurtosis:</td>    <td>2.572</td>  <td>Condition No.:</td>    <td>242</td> \n",
       "</tr>\n",
       "</table>"
      ],
      "text/plain": [
       "<class 'statsmodels.iolib.summary2.Summary'>\n",
       "\"\"\"\n",
       "                 Results: Ordinary least squares\n",
       "=================================================================\n",
       "Model:              OLS              Adj. R-squared:     0.907   \n",
       "Dependent Variable: CO               AIC:                93.0187 \n",
       "Date:               2021-10-06 15:35 BIC:                97.8942 \n",
       "No. Observations:   25               Log-Likelihood:     -42.509 \n",
       "Df Model:           3                F-statistic:        78.98   \n",
       "Df Residuals:       21               Prob (F-statistic): 1.33e-11\n",
       "R-squared:          0.919            Scale:              2.0901  \n",
       "------------------------------------------------------------------\n",
       "              Coef.   Std.Err.     t     P>|t|    [0.025    0.975]\n",
       "------------------------------------------------------------------\n",
       "Intercept     3.2022    3.4618   0.9250  0.3655   -3.9969  10.4013\n",
       "TAR           0.9626    0.2422   3.9736  0.0007    0.4588   1.4663\n",
       "NICOTINE     -2.6317    3.9006  -0.6747  0.5072  -10.7433   5.4800\n",
       "WEIGHT       -0.1305    3.8853  -0.0336  0.9735   -8.2105   7.9495\n",
       "-----------------------------------------------------------------\n",
       "Omnibus:               0.052        Durbin-Watson:          2.860\n",
       "Prob(Omnibus):         0.974        Jarque-Bera (JB):       0.223\n",
       "Skew:                  -0.087       Prob(JB):               0.895\n",
       "Kurtosis:              2.572        Condition No.:          242  \n",
       "=================================================================\n",
       "\n",
       "\"\"\""
      ]
     },
     "execution_count": 27,
     "metadata": {},
     "output_type": "execute_result"
    }
   ],
   "source": [
    "co_smoke_lm.summary2()"
   ]
  },
  {
   "cell_type": "code",
   "execution_count": 28,
   "metadata": {
    "id": "8IRteV1YVizp"
   },
   "outputs": [],
   "source": [
    "formula1 = 'CO ~ NICOTINE + WEIGHT'\n",
    "co_smoke_lm1 = ols(formula1, data=co_smoke).fit()"
   ]
  },
  {
   "cell_type": "code",
   "execution_count": 29,
   "metadata": {
    "colab": {
     "base_uri": "https://localhost:8080/",
     "height": 339
    },
    "id": "5hyPJHDOYHj7",
    "outputId": "1816b65e-edce-469a-fb71-c30c242ab67a"
   },
   "outputs": [
    {
     "data": {
      "text/html": [
       "<table class=\"simpletable\">\n",
       "<tr>\n",
       "        <td>Model:</td>               <td>OLS</td>         <td>Adj. R-squared:</td>     <td>0.844</td> \n",
       "</tr>\n",
       "<tr>\n",
       "  <td>Dependent Variable:</td>        <td>CO</td>               <td>AIC:</td>         <td>105.0357</td>\n",
       "</tr>\n",
       "<tr>\n",
       "         <td>Date:</td>        <td>2021-10-06 15:35</td>        <td>BIC:</td>         <td>108.6924</td>\n",
       "</tr>\n",
       "<tr>\n",
       "   <td>No. Observations:</td>         <td>25</td>          <td>Log-Likelihood:</td>    <td>-49.518</td>\n",
       "</tr>\n",
       "<tr>\n",
       "       <td>Df Model:</td>              <td>2</td>           <td>F-statistic:</td>       <td>66.13</td> \n",
       "</tr>\n",
       "<tr>\n",
       "     <td>Df Residuals:</td>           <td>22</td>        <td>Prob (F-statistic):</td> <td>4.97e-10</td>\n",
       "</tr>\n",
       "<tr>\n",
       "      <td>R-squared:</td>            <td>0.857</td>            <td>Scale:</td>         <td>3.4952</td> \n",
       "</tr>\n",
       "</table>\n",
       "<table class=\"simpletable\">\n",
       "<tr>\n",
       "      <td></td>       <th>Coef.</th>  <th>Std.Err.</th>    <th>t</th>    <th>P>|t|</th>  <th>[0.025</th>  <th>0.975]</th> \n",
       "</tr>\n",
       "<tr>\n",
       "  <th>Intercept</th> <td>1.6140</td>   <td>4.4466</td>  <td>0.3630</td> <td>0.7201</td>  <td>-7.6078</td> <td>10.8357</td>\n",
       "</tr>\n",
       "<tr>\n",
       "  <th>NICOTINE</th>  <td>12.3881</td>  <td>1.2447</td>  <td>9.9524</td> <td>0.0000</td>  <td>9.8067</td>  <td>14.9695</td>\n",
       "</tr>\n",
       "<tr>\n",
       "  <th>WEIGHT</th>    <td>0.0588</td>   <td>5.0240</td>  <td>0.0117</td> <td>0.9908</td> <td>-10.3602</td> <td>10.4779</td>\n",
       "</tr>\n",
       "</table>\n",
       "<table class=\"simpletable\">\n",
       "<tr>\n",
       "     <td>Omnibus:</td>    <td>0.376</td>  <td>Durbin-Watson:</td>   <td>2.676</td>\n",
       "</tr>\n",
       "<tr>\n",
       "  <td>Prob(Omnibus):</td> <td>0.829</td> <td>Jarque-Bera (JB):</td> <td>0.520</td>\n",
       "</tr>\n",
       "<tr>\n",
       "       <td>Skew:</td>     <td>0.215</td>     <td>Prob(JB):</td>     <td>0.771</td>\n",
       "</tr>\n",
       "<tr>\n",
       "     <td>Kurtosis:</td>   <td>2.440</td>  <td>Condition No.:</td>    <td>30</td>  \n",
       "</tr>\n",
       "</table>"
      ],
      "text/plain": [
       "<class 'statsmodels.iolib.summary2.Summary'>\n",
       "\"\"\"\n",
       "                 Results: Ordinary least squares\n",
       "=================================================================\n",
       "Model:              OLS              Adj. R-squared:     0.844   \n",
       "Dependent Variable: CO               AIC:                105.0357\n",
       "Date:               2021-10-06 15:35 BIC:                108.6924\n",
       "No. Observations:   25               Log-Likelihood:     -49.518 \n",
       "Df Model:           2                F-statistic:        66.13   \n",
       "Df Residuals:       22               Prob (F-statistic): 4.97e-10\n",
       "R-squared:          0.857            Scale:              3.4952  \n",
       "------------------------------------------------------------------\n",
       "               Coef.   Std.Err.    t     P>|t|    [0.025    0.975]\n",
       "------------------------------------------------------------------\n",
       "Intercept      1.6140    4.4466  0.3630  0.7201   -7.6078  10.8357\n",
       "NICOTINE      12.3881    1.2447  9.9524  0.0000    9.8067  14.9695\n",
       "WEIGHT         0.0588    5.0240  0.0117  0.9908  -10.3602  10.4779\n",
       "-----------------------------------------------------------------\n",
       "Omnibus:              0.376        Durbin-Watson:           2.676\n",
       "Prob(Omnibus):        0.829        Jarque-Bera (JB):        0.520\n",
       "Skew:                 0.215        Prob(JB):                0.771\n",
       "Kurtosis:             2.440        Condition No.:           30   \n",
       "=================================================================\n",
       "\n",
       "\"\"\""
      ]
     },
     "execution_count": 29,
     "metadata": {},
     "output_type": "execute_result"
    }
   ],
   "source": [
    "co_smoke_lm1.summary2()"
   ]
  },
  {
   "cell_type": "code",
   "execution_count": null,
   "metadata": {
    "id": "2y-V-eBWYNPW"
   },
   "outputs": [],
   "source": []
  }
 ],
 "metadata": {
  "colab": {
   "name": "Homework 1: Linear regression.ipynb",
   "provenance": []
  },
  "kernelspec": {
   "display_name": "Python 3 (ipykernel)",
   "language": "python",
   "name": "python3"
  },
  "language_info": {
   "codemirror_mode": {
    "name": "ipython",
    "version": 3
   },
   "file_extension": ".py",
   "mimetype": "text/x-python",
   "name": "python",
   "nbconvert_exporter": "python",
   "pygments_lexer": "ipython3",
   "version": "3.8.8"
  }
 },
 "nbformat": 4,
 "nbformat_minor": 1
}
