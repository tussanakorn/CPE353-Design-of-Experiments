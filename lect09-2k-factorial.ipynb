{
 "cells": [
  {
   "cell_type": "markdown",
   "metadata": {},
   "source": [
    "# $2^k$ Factorial Design"
   ]
  },
  {
   "cell_type": "markdown",
   "metadata": {
    "toc": true
   },
   "source": [
    "<h1>Table of Contents<span class=\"tocSkip\"></span></h1>\n",
    "<div class=\"toc\"><ul class=\"toc-item\"><li><span><a href=\"#Contrasts-and-Effect-Estimates\" data-toc-modified-id=\"Contrasts-and-Effect-Estimates-1\"><span class=\"toc-item-num\">1&nbsp;&nbsp;</span>Contrasts and Effect Estimates</a></span></li><li><span><a href=\"#Your-Turn----Activity-I:--Bacterial-Growth\" data-toc-modified-id=\"Your-Turn----Activity-I:--Bacterial-Growth-2\"><span class=\"toc-item-num\">2&nbsp;&nbsp;</span>Your Turn -- Activity I:  Bacterial Growth</a></span></li><li><span><a href=\"#Estimating-Regression-Coefficients-in-Two-level-Factorial\" data-toc-modified-id=\"Estimating-Regression-Coefficients-in-Two-level-Factorial-3\"><span class=\"toc-item-num\">3&nbsp;&nbsp;</span>Estimating Regression Coefficients in Two-level Factorial</a></span></li><li><span><a href=\"#Fitting-regression-model-to-Process-yield-example\" data-toc-modified-id=\"Fitting-regression-model-to-Process-yield-example-4\"><span class=\"toc-item-num\">4&nbsp;&nbsp;</span>Fitting regression model to Process yield example</a></span></li><li><span><a href=\"#Visual-Assessment-in-Single-Replicate-Data\" data-toc-modified-id=\"Visual-Assessment-in-Single-Replicate-Data-5\"><span class=\"toc-item-num\">5&nbsp;&nbsp;</span>Visual Assessment in Single Replicate Data</a></span><ul class=\"toc-item\"><li><span><a href=\"#Normal-probability-plot\" data-toc-modified-id=\"Normal-probability-plot-5.1\"><span class=\"toc-item-num\">5.1&nbsp;&nbsp;</span>Normal probability plot</a></span></li><li><span><a href=\"#Normal-probability-plot-in-Minitab-style\" data-toc-modified-id=\"Normal-probability-plot-in-Minitab-style-5.2\"><span class=\"toc-item-num\">5.2&nbsp;&nbsp;</span>Normal probability plot in Minitab style</a></span></li></ul></li></ul></div>"
   ]
  },
  {
   "cell_type": "code",
   "execution_count": 58,
   "metadata": {
    "scrolled": true
   },
   "outputs": [
    {
     "name": "stdout",
     "output_type": "stream",
     "text": [
      "\n",
      "Enabling interactive shell outputs ...\n",
      "   Use command pass; to disable cell text outputs\n"
     ]
    }
   ],
   "source": [
    "print('\\nEnabling interactive shell outputs ...')\n",
    "print('   Use command pass; to disable cell text outputs')\n",
    "from IPython.core.interactiveshell import InteractiveShell\n",
    "InteractiveShell.ast_node_interactivity = \"all\"\n",
    "\n",
    "import warnings\n",
    "warnings.filterwarnings('ignore') \n",
    "warnings.simplefilter(action=\"ignore\",category=UserWarning)\n",
    "warnings.simplefilter(action=\"ignore\",category=FutureWarning)\n",
    "\n",
    "import pandas as pd \n",
    "import numpy as np\n",
    "import matplotlib.pyplot as plt\n",
    "import seaborn as sns\n",
    "from scipy import stats\n",
    "import statsmodels.api as sm\n",
    "\n",
    "\n",
    "\n",
    "%matplotlib inline\n",
    "%config InlineBackend.figure_formats = {'png', 'retina'}"
   ]
  },
  {
   "cell_type": "markdown",
   "metadata": {},
   "source": [
    "## Contrasts and Effect Estimates"
   ]
  },
  {
   "cell_type": "markdown",
   "metadata": {},
   "source": [
    "**Create the factorial effect matrix**"
   ]
  },
  {
   "cell_type": "code",
   "execution_count": 69,
   "metadata": {},
   "outputs": [
    {
     "data": {
      "text/plain": [
       "(   Intercept  A  B  AB\n",
       " 0          1 -1 -1   1\n",
       " 1          1  1 -1  -1\n",
       " 2          1 -1  1  -1\n",
       " 3          1  1  1   1,\n",
       " array([[ 80],\n",
       "        [100],\n",
       "        [ 60],\n",
       "        [ 90]]))"
      ]
     },
     "execution_count": 69,
     "metadata": {},
     "output_type": "execute_result"
    }
   ],
   "source": [
    "Xmain=np.array([[+1,-1,-1],\n",
    "                [+1,+1,-1],\n",
    "                [+1,-1,+1],\n",
    "                [+1,+1,+1]])\n",
    "\n",
    "\n",
    "factorial_eff = pd.DataFrame(Xmain, columns=['Intercept','A','B'])\n",
    "\n",
    "# Add interaction effects\n",
    "factorial_eff['AB'] = factorial_eff['A']*factorial_eff['B']\n",
    "\n",
    "# Observations from three replicates\n",
    "y = np.array([[28,25,27],\n",
    "             [36,32,32],\n",
    "             [18,19,23],\n",
    "             [31,30,29]])\n",
    "\n",
    "# Get a vector of total response\n",
    "total_y = np.c_[y.sum(axis=1)]\n",
    "factorial_eff, total_y"
   ]
  },
  {
   "cell_type": "markdown",
   "metadata": {},
   "source": [
    "**Compute contrasts, SS, and effect estimates**"
   ]
  },
  {
   "cell_type": "code",
   "execution_count": 70,
   "metadata": {},
   "outputs": [
    {
     "name": "stdout",
     "output_type": "stream",
     "text": [
      "Contrast effects\n",
      "A     50\n",
      "B    -30\n",
      "AB    10\n",
      "\n",
      "Effect estimates\n",
      "A     8.333333\n",
      "B    -5.000000\n",
      "AB    1.666667\n",
      "\n",
      "SS effects\n",
      "A     208.333333\n",
      "B      75.000000\n",
      "AB      8.333333\n"
     ]
    }
   ],
   "source": [
    "k, n = np.log2(len(factorial_eff)), y.shape[1]\n",
    "\n",
    "contrast_eff = factorial_eff.iloc[:,1:].mul(total_y).sum()\n",
    "print('Contrast effects\\n', contrast_eff.to_string(), sep='')\n",
    "\n",
    "effects = (contrast_eff)/((2**(k-1))*n)\n",
    "print('\\nEffect estimates\\n', effects.to_string(), sep='')\n",
    "\n",
    "ss_eff = (contrast_eff**2)/((2**k)*n)\n",
    "print('\\nSS effects\\n', ss_eff.to_string(), sep='')"
   ]
  },
  {
   "cell_type": "markdown",
   "metadata": {},
   "source": [
    "**SSE and MSE**"
   ]
  },
  {
   "cell_type": "code",
   "execution_count": 61,
   "metadata": {},
   "outputs": [
    {
     "name": "stdout",
     "output_type": "stream",
     "text": [
      "SSE = 31.33, MSE = 3.92\n"
     ]
    }
   ],
   "source": [
    "SST = (sum(sum(y**2)) - sum(total_y)**2/y.size)[0]\n",
    "SSE = SST - sum(ss_eff)\n",
    "MSE = SSE/(y.size - len(ss_eff) - 1)\n",
    "print(\"SSE = {:.2f}, MSE = {:.2f}\".format(SSE, MSE))"
   ]
  },
  {
   "cell_type": "markdown",
   "metadata": {},
   "source": [
    "## Your Turn -- Activity I:  Bacterial Growth "
   ]
  },
  {
   "cell_type": "code",
   "execution_count": 62,
   "metadata": {},
   "outputs": [
    {
     "data": {
      "text/html": [
       "<div>\n",
       "<style scoped>\n",
       "    .dataframe tbody tr th:only-of-type {\n",
       "        vertical-align: middle;\n",
       "    }\n",
       "\n",
       "    .dataframe tbody tr th {\n",
       "        vertical-align: top;\n",
       "    }\n",
       "\n",
       "    .dataframe thead th {\n",
       "        text-align: right;\n",
       "    }\n",
       "</style>\n",
       "<table border=\"1\" class=\"dataframe\">\n",
       "  <thead>\n",
       "    <tr style=\"text-align: right;\">\n",
       "      <th></th>\n",
       "      <th>A</th>\n",
       "      <th>B</th>\n",
       "      <th>Rep1</th>\n",
       "      <th>Rep2</th>\n",
       "      <th>Rep3</th>\n",
       "      <th>Rep4</th>\n",
       "      <th>Rep5</th>\n",
       "      <th>Rep6</th>\n",
       "    </tr>\n",
       "  </thead>\n",
       "  <tbody>\n",
       "    <tr>\n",
       "      <th>0</th>\n",
       "      <td>-1</td>\n",
       "      <td>-1</td>\n",
       "      <td>21</td>\n",
       "      <td>22</td>\n",
       "      <td>23</td>\n",
       "      <td>28</td>\n",
       "      <td>20</td>\n",
       "      <td>26</td>\n",
       "    </tr>\n",
       "    <tr>\n",
       "      <th>1</th>\n",
       "      <td>1</td>\n",
       "      <td>-1</td>\n",
       "      <td>37</td>\n",
       "      <td>39</td>\n",
       "      <td>38</td>\n",
       "      <td>38</td>\n",
       "      <td>35</td>\n",
       "      <td>36</td>\n",
       "    </tr>\n",
       "    <tr>\n",
       "      <th>2</th>\n",
       "      <td>-1</td>\n",
       "      <td>1</td>\n",
       "      <td>25</td>\n",
       "      <td>26</td>\n",
       "      <td>24</td>\n",
       "      <td>25</td>\n",
       "      <td>29</td>\n",
       "      <td>27</td>\n",
       "    </tr>\n",
       "    <tr>\n",
       "      <th>3</th>\n",
       "      <td>1</td>\n",
       "      <td>1</td>\n",
       "      <td>31</td>\n",
       "      <td>34</td>\n",
       "      <td>29</td>\n",
       "      <td>33</td>\n",
       "      <td>30</td>\n",
       "      <td>35</td>\n",
       "    </tr>\n",
       "  </tbody>\n",
       "</table>\n",
       "</div>"
      ],
      "text/plain": [
       "   A  B  Rep1  Rep2  Rep3  Rep4  Rep5  Rep6\n",
       "0 -1 -1    21    22    23    28    20    26\n",
       "1  1 -1    37    39    38    38    35    36\n",
       "2 -1  1    25    26    24    25    29    27\n",
       "3  1  1    31    34    29    33    30    35"
      ]
     },
     "execution_count": 62,
     "metadata": {},
     "output_type": "execute_result"
    }
   ],
   "source": [
    "growth_df = pd.read_excel('./data/lect09-2k-factorial.xlsx', sheet_name='Bacteria')\n",
    "growth_df"
   ]
  },
  {
   "cell_type": "code",
   "execution_count": 71,
   "metadata": {},
   "outputs": [
    {
     "data": {
      "text/plain": [
       "(   A  B  AB\n",
       " 0 -1 -1   1\n",
       " 1  1 -1  -1\n",
       " 2 -1  1  -1\n",
       " 3  1  1   1,\n",
       " array([[140],\n",
       "        [223],\n",
       "        [156],\n",
       "        [192]]))"
      ]
     },
     "execution_count": 71,
     "metadata": {},
     "output_type": "execute_result"
    }
   ],
   "source": [
    "growth_df=np.array([[-1,-1,+1],\n",
    "                [+1,-1,-1],\n",
    "                [-1,+1,-1],\n",
    "                [+1,+1,+1]])\n",
    "\n",
    "\n",
    "factorial_eff = pd.DataFrame(growth_df, columns=['A','B','AB'])\n",
    "\n",
    "# Add interaction effects\n",
    "factorial_eff['AB'] = factorial_eff['A']*factorial_eff['B']\n",
    "\n",
    "# Observations from three replicates\n",
    "growth_y = np.array([[21,22,23,28,20,26],\n",
    "             [37,39,38,38,35,36],\n",
    "             [25,26,24,25,29,27],\n",
    "             [31,34,29,33,30,35]])\n",
    "\n",
    "# Get a vector of total response\n",
    "total_growth = np.c_[growth_y.sum(axis=1)]\n",
    "factorial_eff, total_growth"
   ]
  },
  {
   "cell_type": "code",
   "execution_count": 73,
   "metadata": {},
   "outputs": [
    {
     "name": "stdout",
     "output_type": "stream",
     "text": [
      "Contrast effects\n",
      "A     119\n",
      "B     -15\n",
      "AB    -47\n",
      "\n",
      "Effect estimates\n",
      "A     9.916667\n",
      "B    -1.250000\n",
      "AB   -3.916667\n",
      "\n",
      "SS effects\n",
      "A     590.041667\n",
      "B       9.375000\n",
      "AB     92.041667\n"
     ]
    }
   ],
   "source": [
    "k, n = np.log2(len(factorial_eff)), growth_y.shape[1]\n",
    "\n",
    "contrast_eff = factorial_eff.iloc[:,0:].mul(total_growth).sum()\n",
    "print('Contrast effects\\n', contrast_eff.to_string(), sep='')\n",
    "\n",
    "effects = (contrast_eff)/((2**(k-1))*n)\n",
    "print('\\nEffect estimates\\n', effects.to_string(), sep='')\n",
    "\n",
    "ss_eff = (contrast_eff**2)/((2**k)*n)\n",
    "print('\\nSS effects\\n', ss_eff.to_string(), sep='')"
   ]
  },
  {
   "cell_type": "code",
   "execution_count": 74,
   "metadata": {
    "scrolled": true
   },
   "outputs": [
    {
     "name": "stdout",
     "output_type": "stream",
     "text": [
      "SSE = 102.17, MSE = 5.11\n"
     ]
    }
   ],
   "source": [
    "SST = (sum(sum(growth_y**2)) - sum(total_growth)**2/growth_y.size)[0]\n",
    "SSE = SST - sum(ss_eff)\n",
    "MSE = SSE/(growth_y.size - len(ss_eff) - 1)\n",
    "print(\"SSE = {:.2f}, MSE = {:.2f}\".format(SSE, MSE))"
   ]
  },
  {
   "cell_type": "code",
   "execution_count": 75,
   "metadata": {},
   "outputs": [
    {
     "data": {
      "text/html": [
       "<table class=\"simpletable\">\n",
       "<tr>\n",
       "          <td>Model:</td>                 <td>OLS</td>       <td>Adj. R-squared (uncentered):</td>   <td>-2.873</td>  \n",
       "</tr>\n",
       "<tr>\n",
       "    <td>Dependent Variable:</td>           <td>y</td>                    <td>AIC:</td>               <td>58.7945</td> \n",
       "</tr>\n",
       "<tr>\n",
       "           <td>Date:</td>          <td>2021-11-20 23:44</td>             <td>BIC:</td>               <td>56.9534</td> \n",
       "</tr>\n",
       "<tr>\n",
       "     <td>No. Observations:</td>            <td>4</td>               <td>Log-Likelihood:</td>         <td>-26.397</td> \n",
       "</tr>\n",
       "<tr>\n",
       "         <td>Df Model:</td>                <td>3</td>                <td>F-statistic:</td>           <td>0.01094</td> \n",
       "</tr>\n",
       "<tr>\n",
       "       <td>Df Residuals:</td>              <td>1</td>             <td>Prob (F-statistic):</td>        <td>0.998</td>  \n",
       "</tr>\n",
       "<tr>\n",
       "  <td>R-squared (uncentered):</td>       <td>0.032</td>                 <td>Scale:</td>            <td>1.2638e+05</td>\n",
       "</tr>\n",
       "</table>\n",
       "<table class=\"simpletable\">\n",
       "<tr>\n",
       "   <td></td>    <th>Coef.</th>  <th>Std.Err.</th>    <th>t</th>     <th>P>|t|</th>   <th>[0.025</th>    <th>0.975]</th>  \n",
       "</tr>\n",
       "<tr>\n",
       "  <th>A</th>   <td>29.7500</td> <td>177.7500</td> <td>0.1674</td>  <td>0.8944</td> <td>-2228.7779</td> <td>2288.2779</td>\n",
       "</tr>\n",
       "<tr>\n",
       "  <th>B</th>   <td>-3.7500</td> <td>177.7500</td> <td>-0.0211</td> <td>0.9866</td> <td>-2262.2779</td> <td>2254.7779</td>\n",
       "</tr>\n",
       "<tr>\n",
       "  <th>AB</th> <td>-11.7500</td> <td>177.7500</td> <td>-0.0661</td> <td>0.9580</td> <td>-2270.2779</td> <td>2246.7779</td>\n",
       "</tr>\n",
       "</table>\n",
       "<table class=\"simpletable\">\n",
       "<tr>\n",
       "     <td>Omnibus:</td>     <td>nan</td>   <td>Durbin-Watson:</td>   <td>0.000</td>\n",
       "</tr>\n",
       "<tr>\n",
       "  <td>Prob(Omnibus):</td>  <td>nan</td>  <td>Jarque-Bera (JB):</td> <td>1.500</td>\n",
       "</tr>\n",
       "<tr>\n",
       "       <td>Skew:</td>     <td>0.000</td>     <td>Prob(JB):</td>     <td>0.472</td>\n",
       "</tr>\n",
       "<tr>\n",
       "     <td>Kurtosis:</td>   <td>0.000</td>  <td>Condition No.:</td>     <td>1</td>  \n",
       "</tr>\n",
       "</table>"
      ],
      "text/plain": [
       "<class 'statsmodels.iolib.summary2.Summary'>\n",
       "\"\"\"\n",
       "                        Results: Ordinary least squares\n",
       "================================================================================\n",
       "Model:                  OLS              Adj. R-squared (uncentered): -2.873    \n",
       "Dependent Variable:     y                AIC:                         58.7945   \n",
       "Date:                   2021-11-20 23:44 BIC:                         56.9534   \n",
       "No. Observations:       4                Log-Likelihood:              -26.397   \n",
       "Df Model:               3                F-statistic:                 0.01094   \n",
       "Df Residuals:           1                Prob (F-statistic):          0.998     \n",
       "R-squared (uncentered): 0.032            Scale:                       1.2638e+05\n",
       "------------------------------------------------------------------------------------\n",
       "            Coef.       Std.Err.        t        P>|t|        [0.025         0.975] \n",
       "------------------------------------------------------------------------------------\n",
       "A           29.7500     177.7500      0.1674     0.8944     -2228.7779     2288.2779\n",
       "B           -3.7500     177.7500     -0.0211     0.9866     -2262.2779     2254.7779\n",
       "AB         -11.7500     177.7500     -0.0661     0.9580     -2270.2779     2246.7779\n",
       "--------------------------------------------------------------------------------\n",
       "Omnibus:                   nan               Durbin-Watson:                0.000\n",
       "Prob(Omnibus):             nan               Jarque-Bera (JB):             1.500\n",
       "Skew:                      0.000             Prob(JB):                     0.472\n",
       "Kurtosis:                  0.000             Condition No.:                1    \n",
       "================================================================================\n",
       "\n",
       "\"\"\""
      ]
     },
     "execution_count": 75,
     "metadata": {},
     "output_type": "execute_result"
    }
   ],
   "source": [
    "import statsmodels.api as sm\n",
    "\n",
    "growth_model = sm.OLS(total_growth,factorial_eff).fit()\n",
    "growth_model.summary2()"
   ]
  },
  {
   "cell_type": "code",
   "execution_count": 76,
   "metadata": {},
   "outputs": [
    {
     "data": {
      "text/plain": [
       "0.0"
      ]
     },
     "execution_count": 76,
     "metadata": {},
     "output_type": "execute_result"
    },
    {
     "name": "stdout",
     "output_type": "stream",
     "text": [
      "SSE =102.17, MSE-  5.11\n",
      "F-A 115.505709624796\n",
      "F-B 1.8352365415986935\n",
      "F-AB 18.017944535073397\n",
      "P-value A 9.290524855305233e-10\n",
      "P-value B 0.19061715658088677\n",
      "P-value AB 0.0003969387187647818\n"
     ]
    }
   ],
   "source": [
    "SST - (sum(sum(growth_y**2))- sum(total_growth)**2/growth_y. size)[0]\n",
    "SSE = SST - sum(ss_eff)\n",
    "MSE = SSE/(growth_y.size- len(ss_eff)-1)\n",
    "n=6\n",
    "df_error= (2**2)*(n-1)\n",
    "F_a = ss_eff[0] / (SSE/df_error)\n",
    "F_b= ss_eff[1] / (SSE/df_error)\n",
    "F_ab = ss_eff[2] / (SSE/df_error)\n",
    "print(\"SSE ={:.2f}, MSE- {: .2f}\". format(SSE, MSE))\n",
    "print(\"F-A\",F_a)\n",
    "print(\"F-B\",F_b)\n",
    "print(\"F-AB\",F_ab)\n",
    "p_value_a = stats.f.sf(F_a,1,df_error)\n",
    "p_value_b = stats.f.sf(F_b,  1, df_error)\n",
    "p_value_ab = stats.f.sf(F_ab, 1, df_error)\n",
    "print(\"P-value A\",p_value_a)\n",
    "print(\"P-value B\",p_value_b)\n",
    "print(\"P-value AB\",p_value_ab)"
   ]
  },
  {
   "cell_type": "code",
   "execution_count": 22,
   "metadata": {},
   "outputs": [],
   "source": [
    "#F_A = 42.1/(126.4/60)\n",
    "#F_A\n",
    "#F_B = 53.9/(126.4/60)\n",
    "#F_B"
   ]
  },
  {
   "cell_type": "markdown",
   "metadata": {},
   "source": [
    "## Estimating Regression Coefficients in Two-level Factorial "
   ]
  },
  {
   "cell_type": "code",
   "execution_count": 23,
   "metadata": {},
   "outputs": [
    {
     "data": {
      "text/latex": [
       "$\\displaystyle \\mathbf{X}$"
      ],
      "text/plain": [
       "<IPython.core.display.Math object>"
      ]
     },
     "metadata": {},
     "output_type": "display_data"
    },
    {
     "name": "stdout",
     "output_type": "stream",
     "text": [
      "[[ 1 -1 -1 -1]\n",
      " [ 1  1 -1 -1]\n",
      " [ 1 -1  1 -1]\n",
      " [ 1  1  1 -1]\n",
      " [ 1 -1 -1  1]\n",
      " [ 1  1 -1  1]\n",
      " [ 1 -1  1  1]\n",
      " [ 1  1  1  1]]\n"
     ]
    },
    {
     "data": {
      "text/latex": [
       "$\\displaystyle \\mathbf{X}^T\\mathbf{X}$"
      ],
      "text/plain": [
       "<IPython.core.display.Math object>"
      ]
     },
     "metadata": {},
     "output_type": "display_data"
    },
    {
     "name": "stdout",
     "output_type": "stream",
     "text": [
      "[[8 0 0 0]\n",
      " [0 8 0 0]\n",
      " [0 0 8 0]\n",
      " [0 0 0 8]]\n"
     ]
    },
    {
     "data": {
      "text/latex": [
       "$\\displaystyle (\\mathbf{X}^T\\mathbf{X})^{-1}$"
      ],
      "text/plain": [
       "<IPython.core.display.Math object>"
      ]
     },
     "metadata": {},
     "output_type": "display_data"
    },
    {
     "name": "stdout",
     "output_type": "stream",
     "text": [
      "[[0.125 0.    0.    0.   ]\n",
      " [0.    0.125 0.    0.   ]\n",
      " [0.    0.    0.125 0.   ]\n",
      " [0.    0.    0.    0.125]]\n"
     ]
    }
   ],
   "source": [
    "from IPython.display import display, Math\n",
    "\n",
    "from numpy import linalg as LA\n",
    "\n",
    "X = np.array([[+1,-1,-1,-1],\n",
    "                [+1,+1,-1,-1],\n",
    "                [+1,-1,+1,-1],\n",
    "                [+1,+1,+1,-1],\n",
    "                [+1,-1,-1,+1],\n",
    "                [+1,+1,-1,+1],\n",
    "                [+1,-1,+1,+1],\n",
    "                [+1,+1,+1,+1]])\n",
    "display(Math(r'\\mathbf{X}'))\n",
    "print(X)\n",
    "display(Math(r'\\mathbf{X}^T\\mathbf{X}'))\n",
    "print(X.T@X)\n",
    "display(Math(r'(\\mathbf{X}^T\\mathbf{X})^{-1}'))\n",
    "print(LA.inv(X.T@X))"
   ]
  },
  {
   "cell_type": "markdown",
   "metadata": {},
   "source": [
    "**Design matrix generation of 2-level factorial design**"
   ]
  },
  {
   "cell_type": "code",
   "execution_count": 24,
   "metadata": {},
   "outputs": [],
   "source": [
    "import string\n",
    "import pandas as pd\n",
    "from itertools import combinations\n",
    "\n",
    "# Return 2-level design matrix for k factors.\n",
    "\n",
    "def gen_factorial_matrix(k, interaction=True, num_rep=1):\n",
    "  Factors =  list(string.ascii_uppercase[0:k])\n",
    "\n",
    "  Dmatrix = pd.DataFrame(columns=Factors)\n",
    "\n",
    "  for i in range(0,k):\n",
    "    neg,pos = -np.ones(2**i), np.ones(2**i)\n",
    "  \n",
    "    Dmatrix[Factors[i]] = np.tile(np.hstack((neg,pos)),2**(k-i-1)).astype(int)\n",
    "  \n",
    "  # Add interaction effects\n",
    "  if interaction:\n",
    "    for t in range(1,k+1):\n",
    "      for m in combinations(Factors, t):\n",
    "        interaction_terms = list(m)\n",
    "        col_name = ''.join(interaction_terms)\n",
    "        Dmatrix[col_name] = Dmatrix[interaction_terms].prod(axis=1)\n",
    "\n",
    "  Dmatrix.insert(0, 'I', np.ones(2**k).astype(int))\n",
    "  Dmatrix = pd.concat([Dmatrix]*num_rep, ignore_index=True)\n",
    "  \n",
    "  return(Dmatrix)"
   ]
  },
  {
   "cell_type": "markdown",
   "metadata": {},
   "source": [
    "Ex:D Design matrix for $2^3$ factorial"
   ]
  },
  {
   "cell_type": "code",
   "execution_count": 25,
   "metadata": {},
   "outputs": [
    {
     "data": {
      "text/html": [
       "<div>\n",
       "<style scoped>\n",
       "    .dataframe tbody tr th:only-of-type {\n",
       "        vertical-align: middle;\n",
       "    }\n",
       "\n",
       "    .dataframe tbody tr th {\n",
       "        vertical-align: top;\n",
       "    }\n",
       "\n",
       "    .dataframe thead th {\n",
       "        text-align: right;\n",
       "    }\n",
       "</style>\n",
       "<table border=\"1\" class=\"dataframe\">\n",
       "  <thead>\n",
       "    <tr style=\"text-align: right;\">\n",
       "      <th></th>\n",
       "      <th>I</th>\n",
       "      <th>A</th>\n",
       "      <th>B</th>\n",
       "      <th>C</th>\n",
       "    </tr>\n",
       "  </thead>\n",
       "  <tbody>\n",
       "    <tr>\n",
       "      <th>0</th>\n",
       "      <td>1</td>\n",
       "      <td>-1</td>\n",
       "      <td>-1</td>\n",
       "      <td>-1</td>\n",
       "    </tr>\n",
       "    <tr>\n",
       "      <th>1</th>\n",
       "      <td>1</td>\n",
       "      <td>1</td>\n",
       "      <td>-1</td>\n",
       "      <td>-1</td>\n",
       "    </tr>\n",
       "    <tr>\n",
       "      <th>2</th>\n",
       "      <td>1</td>\n",
       "      <td>-1</td>\n",
       "      <td>1</td>\n",
       "      <td>-1</td>\n",
       "    </tr>\n",
       "    <tr>\n",
       "      <th>3</th>\n",
       "      <td>1</td>\n",
       "      <td>1</td>\n",
       "      <td>1</td>\n",
       "      <td>-1</td>\n",
       "    </tr>\n",
       "    <tr>\n",
       "      <th>4</th>\n",
       "      <td>1</td>\n",
       "      <td>-1</td>\n",
       "      <td>-1</td>\n",
       "      <td>1</td>\n",
       "    </tr>\n",
       "    <tr>\n",
       "      <th>5</th>\n",
       "      <td>1</td>\n",
       "      <td>1</td>\n",
       "      <td>-1</td>\n",
       "      <td>1</td>\n",
       "    </tr>\n",
       "    <tr>\n",
       "      <th>6</th>\n",
       "      <td>1</td>\n",
       "      <td>-1</td>\n",
       "      <td>1</td>\n",
       "      <td>1</td>\n",
       "    </tr>\n",
       "    <tr>\n",
       "      <th>7</th>\n",
       "      <td>1</td>\n",
       "      <td>1</td>\n",
       "      <td>1</td>\n",
       "      <td>1</td>\n",
       "    </tr>\n",
       "  </tbody>\n",
       "</table>\n",
       "</div>"
      ],
      "text/plain": [
       "   I  A  B  C\n",
       "0  1 -1 -1 -1\n",
       "1  1  1 -1 -1\n",
       "2  1 -1  1 -1\n",
       "3  1  1  1 -1\n",
       "4  1 -1 -1  1\n",
       "5  1  1 -1  1\n",
       "6  1 -1  1  1\n",
       "7  1  1  1  1"
      ]
     },
     "execution_count": 25,
     "metadata": {},
     "output_type": "execute_result"
    }
   ],
   "source": [
    "gen_factorial_matrix(k=3, interaction=False, num_rep=1)"
   ]
  },
  {
   "cell_type": "code",
   "execution_count": 26,
   "metadata": {
    "scrolled": true
   },
   "outputs": [
    {
     "data": {
      "text/html": [
       "<div>\n",
       "<style scoped>\n",
       "    .dataframe tbody tr th:only-of-type {\n",
       "        vertical-align: middle;\n",
       "    }\n",
       "\n",
       "    .dataframe tbody tr th {\n",
       "        vertical-align: top;\n",
       "    }\n",
       "\n",
       "    .dataframe thead th {\n",
       "        text-align: right;\n",
       "    }\n",
       "</style>\n",
       "<table border=\"1\" class=\"dataframe\">\n",
       "  <thead>\n",
       "    <tr style=\"text-align: right;\">\n",
       "      <th></th>\n",
       "      <th>I</th>\n",
       "      <th>A</th>\n",
       "      <th>B</th>\n",
       "      <th>C</th>\n",
       "      <th>AB</th>\n",
       "      <th>AC</th>\n",
       "      <th>BC</th>\n",
       "      <th>ABC</th>\n",
       "    </tr>\n",
       "  </thead>\n",
       "  <tbody>\n",
       "    <tr>\n",
       "      <th>0</th>\n",
       "      <td>1</td>\n",
       "      <td>-1</td>\n",
       "      <td>-1</td>\n",
       "      <td>-1</td>\n",
       "      <td>1</td>\n",
       "      <td>1</td>\n",
       "      <td>1</td>\n",
       "      <td>-1</td>\n",
       "    </tr>\n",
       "    <tr>\n",
       "      <th>1</th>\n",
       "      <td>1</td>\n",
       "      <td>1</td>\n",
       "      <td>-1</td>\n",
       "      <td>-1</td>\n",
       "      <td>-1</td>\n",
       "      <td>-1</td>\n",
       "      <td>1</td>\n",
       "      <td>1</td>\n",
       "    </tr>\n",
       "    <tr>\n",
       "      <th>2</th>\n",
       "      <td>1</td>\n",
       "      <td>-1</td>\n",
       "      <td>1</td>\n",
       "      <td>-1</td>\n",
       "      <td>-1</td>\n",
       "      <td>1</td>\n",
       "      <td>-1</td>\n",
       "      <td>1</td>\n",
       "    </tr>\n",
       "    <tr>\n",
       "      <th>3</th>\n",
       "      <td>1</td>\n",
       "      <td>1</td>\n",
       "      <td>1</td>\n",
       "      <td>-1</td>\n",
       "      <td>1</td>\n",
       "      <td>-1</td>\n",
       "      <td>-1</td>\n",
       "      <td>-1</td>\n",
       "    </tr>\n",
       "    <tr>\n",
       "      <th>4</th>\n",
       "      <td>1</td>\n",
       "      <td>-1</td>\n",
       "      <td>-1</td>\n",
       "      <td>1</td>\n",
       "      <td>1</td>\n",
       "      <td>-1</td>\n",
       "      <td>-1</td>\n",
       "      <td>1</td>\n",
       "    </tr>\n",
       "    <tr>\n",
       "      <th>5</th>\n",
       "      <td>1</td>\n",
       "      <td>1</td>\n",
       "      <td>-1</td>\n",
       "      <td>1</td>\n",
       "      <td>-1</td>\n",
       "      <td>1</td>\n",
       "      <td>-1</td>\n",
       "      <td>-1</td>\n",
       "    </tr>\n",
       "    <tr>\n",
       "      <th>6</th>\n",
       "      <td>1</td>\n",
       "      <td>-1</td>\n",
       "      <td>1</td>\n",
       "      <td>1</td>\n",
       "      <td>-1</td>\n",
       "      <td>-1</td>\n",
       "      <td>1</td>\n",
       "      <td>-1</td>\n",
       "    </tr>\n",
       "    <tr>\n",
       "      <th>7</th>\n",
       "      <td>1</td>\n",
       "      <td>1</td>\n",
       "      <td>1</td>\n",
       "      <td>1</td>\n",
       "      <td>1</td>\n",
       "      <td>1</td>\n",
       "      <td>1</td>\n",
       "      <td>1</td>\n",
       "    </tr>\n",
       "  </tbody>\n",
       "</table>\n",
       "</div>"
      ],
      "text/plain": [
       "   I  A  B  C  AB  AC  BC  ABC\n",
       "0  1 -1 -1 -1   1   1   1   -1\n",
       "1  1  1 -1 -1  -1  -1   1    1\n",
       "2  1 -1  1 -1  -1   1  -1    1\n",
       "3  1  1  1 -1   1  -1  -1   -1\n",
       "4  1 -1 -1  1   1  -1  -1    1\n",
       "5  1  1 -1  1  -1   1  -1   -1\n",
       "6  1 -1  1  1  -1  -1   1   -1\n",
       "7  1  1  1  1   1   1   1    1"
      ]
     },
     "execution_count": 26,
     "metadata": {},
     "output_type": "execute_result"
    }
   ],
   "source": [
    "gen_factorial_matrix(k=3, interaction=True, num_rep=1)"
   ]
  },
  {
   "cell_type": "markdown",
   "metadata": {},
   "source": [
    "## Fitting regression model to Process yield example"
   ]
  },
  {
   "cell_type": "code",
   "execution_count": 27,
   "metadata": {
    "hide_input": true
   },
   "outputs": [
    {
     "name": "stdout",
     "output_type": "stream",
     "text": [
      "[[ 1 -1 -1  1]\n",
      " [ 1  1 -1 -1]\n",
      " [ 1 -1  1 -1]\n",
      " [ 1  1  1  1]\n",
      " [ 1 -1 -1  1]\n",
      " [ 1  1 -1 -1]\n",
      " [ 1 -1  1 -1]\n",
      " [ 1  1  1  1]]\n",
      "[[8 0 0 0]\n",
      " [0 8 0 0]\n",
      " [0 0 8 0]\n",
      " [0 0 0 8]]\n",
      "[[0.125 0.    0.    0.   ]\n",
      " [0.    0.125 0.    0.   ]\n",
      " [0.    0.    0.125 0.   ]\n",
      " [0.    0.    0.    0.125]]\n"
     ]
    }
   ],
   "source": [
    "\n",
    "import numpy as np\n",
    "import numpy.linalg as LA\n",
    "\n",
    "X=np.array([[+1,-1,-1,+1],\n",
    "            [+1,+1,-1,-1],\n",
    "            [+1,-1,+1,-1],\n",
    "            [+1,+1,+1,+1],\n",
    "            [+1,-1,-1,+1],\n",
    "            [+1,+1,-1,-1],\n",
    "            [+1,-1,+1,-1],\n",
    "            [+1,+1,+1,+1]])\n",
    "print(X)\n",
    "print((X.T).dot(X))\n",
    "print(LA.inv((X.T).dot(X)))\n",
    "#Note that X’X is diagonal (observing the product pattern) "
   ]
  },
  {
   "cell_type": "code",
   "execution_count": 28,
   "metadata": {
    "hide_input": false
   },
   "outputs": [
    {
     "data": {
      "text/html": [
       "<div>\n",
       "<style scoped>\n",
       "    .dataframe tbody tr th:only-of-type {\n",
       "        vertical-align: middle;\n",
       "    }\n",
       "\n",
       "    .dataframe tbody tr th {\n",
       "        vertical-align: top;\n",
       "    }\n",
       "\n",
       "    .dataframe thead th {\n",
       "        text-align: right;\n",
       "    }\n",
       "</style>\n",
       "<table border=\"1\" class=\"dataframe\">\n",
       "  <thead>\n",
       "    <tr style=\"text-align: right;\">\n",
       "      <th></th>\n",
       "      <th>Intercept</th>\n",
       "      <th>A</th>\n",
       "      <th>B</th>\n",
       "      <th>C</th>\n",
       "    </tr>\n",
       "  </thead>\n",
       "  <tbody>\n",
       "    <tr>\n",
       "      <th>0</th>\n",
       "      <td>1</td>\n",
       "      <td>-1</td>\n",
       "      <td>-1</td>\n",
       "      <td>-1</td>\n",
       "    </tr>\n",
       "    <tr>\n",
       "      <th>1</th>\n",
       "      <td>1</td>\n",
       "      <td>1</td>\n",
       "      <td>-1</td>\n",
       "      <td>-1</td>\n",
       "    </tr>\n",
       "    <tr>\n",
       "      <th>2</th>\n",
       "      <td>1</td>\n",
       "      <td>-1</td>\n",
       "      <td>1</td>\n",
       "      <td>-1</td>\n",
       "    </tr>\n",
       "    <tr>\n",
       "      <th>3</th>\n",
       "      <td>1</td>\n",
       "      <td>1</td>\n",
       "      <td>1</td>\n",
       "      <td>-1</td>\n",
       "    </tr>\n",
       "    <tr>\n",
       "      <th>4</th>\n",
       "      <td>1</td>\n",
       "      <td>-1</td>\n",
       "      <td>-1</td>\n",
       "      <td>1</td>\n",
       "    </tr>\n",
       "    <tr>\n",
       "      <th>5</th>\n",
       "      <td>1</td>\n",
       "      <td>1</td>\n",
       "      <td>-1</td>\n",
       "      <td>1</td>\n",
       "    </tr>\n",
       "    <tr>\n",
       "      <th>6</th>\n",
       "      <td>1</td>\n",
       "      <td>-1</td>\n",
       "      <td>1</td>\n",
       "      <td>1</td>\n",
       "    </tr>\n",
       "    <tr>\n",
       "      <th>7</th>\n",
       "      <td>1</td>\n",
       "      <td>1</td>\n",
       "      <td>1</td>\n",
       "      <td>1</td>\n",
       "    </tr>\n",
       "  </tbody>\n",
       "</table>\n",
       "</div>"
      ],
      "text/plain": [
       "   Intercept  A  B  C\n",
       "0          1 -1 -1 -1\n",
       "1          1  1 -1 -1\n",
       "2          1 -1  1 -1\n",
       "3          1  1  1 -1\n",
       "4          1 -1 -1  1\n",
       "5          1  1 -1  1\n",
       "6          1 -1  1  1\n",
       "7          1  1  1  1"
      ]
     },
     "execution_count": 28,
     "metadata": {},
     "output_type": "execute_result"
    }
   ],
   "source": [
    "import pandas as pd\n",
    "\n",
    "y = np.c_[[32,46,57,65,36,48,57,50]]\n",
    "\n",
    "\n",
    "Xmain=np.array([[+1,-1,-1,-1],\n",
    "                [+1,+1,-1,-1],\n",
    "                [+1,-1,+1,-1],\n",
    "                [+1,+1,+1,-1],\n",
    "                [+1,-1,-1,+1],\n",
    "                [+1,+1,-1,+1],\n",
    "                [+1,-1,+1,+1],\n",
    "                [+1,+1,+1,+1]])\n",
    "Xdf = pd.DataFrame(Xmain, columns=['Intercept','A','B','C'])\n",
    "Xdf"
   ]
  },
  {
   "cell_type": "code",
   "execution_count": null,
   "metadata": {},
   "outputs": [],
   "source": []
  },
  {
   "cell_type": "code",
   "execution_count": 29,
   "metadata": {},
   "outputs": [
    {
     "data": {
      "text/html": [
       "<table class=\"simpletable\">\n",
       "<tr>\n",
       "        <td>Model:</td>               <td>OLS</td>         <td>Adj. R-squared:</td>    <td>0.609</td> \n",
       "</tr>\n",
       "<tr>\n",
       "  <td>Dependent Variable:</td>         <td>y</td>               <td>AIC:</td>         <td>56.0647</td>\n",
       "</tr>\n",
       "<tr>\n",
       "         <td>Date:</td>        <td>2021-11-20 22:47</td>        <td>BIC:</td>         <td>56.3825</td>\n",
       "</tr>\n",
       "<tr>\n",
       "   <td>No. Observations:</td>          <td>8</td>          <td>Log-Likelihood:</td>   <td>-24.032</td>\n",
       "</tr>\n",
       "<tr>\n",
       "       <td>Df Model:</td>              <td>3</td>           <td>F-statistic:</td>      <td>4.636</td> \n",
       "</tr>\n",
       "<tr>\n",
       "     <td>Df Residuals:</td>            <td>4</td>        <td>Prob (F-statistic):</td> <td>0.0863</td> \n",
       "</tr>\n",
       "<tr>\n",
       "      <td>R-squared:</td>            <td>0.777</td>            <td>Scale:</td>        <td>47.625</td> \n",
       "</tr>\n",
       "</table>\n",
       "<table class=\"simpletable\">\n",
       "<tr>\n",
       "      <td></td>       <th>Coef.</th>  <th>Std.Err.</th>    <th>t</th>     <th>P>|t|</th> <th>[0.025</th>  <th>0.975]</th> \n",
       "</tr>\n",
       "<tr>\n",
       "  <th>Intercept</th> <td>48.8750</td>  <td>2.4399</td>  <td>20.0315</td> <td>0.0000</td> <td>42.1007</td> <td>55.6493</td>\n",
       "</tr>\n",
       "<tr>\n",
       "  <th>A</th>         <td>3.3750</td>   <td>2.4399</td>  <td>1.3833</td>  <td>0.2388</td> <td>-3.3993</td> <td>10.1493</td>\n",
       "</tr>\n",
       "<tr>\n",
       "  <th>B</th>         <td>8.3750</td>   <td>2.4399</td>  <td>3.4325</td>  <td>0.0265</td> <td>1.6007</td>  <td>15.1493</td>\n",
       "</tr>\n",
       "<tr>\n",
       "  <th>C</th>         <td>-1.1250</td>  <td>2.4399</td>  <td>-0.4611</td> <td>0.6687</td> <td>-7.8993</td> <td>5.6493</td> \n",
       "</tr>\n",
       "</table>\n",
       "<table class=\"simpletable\">\n",
       "<tr>\n",
       "     <td>Omnibus:</td>     <td>2.319</td>  <td>Durbin-Watson:</td>   <td>1.487</td>\n",
       "</tr>\n",
       "<tr>\n",
       "  <td>Prob(Omnibus):</td>  <td>0.314</td> <td>Jarque-Bera (JB):</td> <td>1.200</td>\n",
       "</tr>\n",
       "<tr>\n",
       "       <td>Skew:</td>     <td>-0.900</td>     <td>Prob(JB):</td>     <td>0.549</td>\n",
       "</tr>\n",
       "<tr>\n",
       "     <td>Kurtosis:</td>    <td>2.400</td>  <td>Condition No.:</td>     <td>1</td>  \n",
       "</tr>\n",
       "</table>"
      ],
      "text/plain": [
       "<class 'statsmodels.iolib.summary2.Summary'>\n",
       "\"\"\"\n",
       "                Results: Ordinary least squares\n",
       "================================================================\n",
       "Model:              OLS              Adj. R-squared:     0.609  \n",
       "Dependent Variable: y                AIC:                56.0647\n",
       "Date:               2021-11-20 22:47 BIC:                56.3825\n",
       "No. Observations:   8                Log-Likelihood:     -24.032\n",
       "Df Model:           3                F-statistic:        4.636  \n",
       "Df Residuals:       4                Prob (F-statistic): 0.0863 \n",
       "R-squared:          0.777            Scale:              47.625 \n",
       "-----------------------------------------------------------------\n",
       "              Coef.   Std.Err.     t     P>|t|    [0.025   0.975]\n",
       "-----------------------------------------------------------------\n",
       "Intercept    48.8750    2.4399  20.0315  0.0000  42.1007  55.6493\n",
       "A             3.3750    2.4399   1.3833  0.2388  -3.3993  10.1493\n",
       "B             8.3750    2.4399   3.4325  0.0265   1.6007  15.1493\n",
       "C            -1.1250    2.4399  -0.4611  0.6687  -7.8993   5.6493\n",
       "----------------------------------------------------------------\n",
       "Omnibus:              2.319        Durbin-Watson:          1.487\n",
       "Prob(Omnibus):        0.314        Jarque-Bera (JB):       1.200\n",
       "Skew:                 -0.900       Prob(JB):               0.549\n",
       "Kurtosis:             2.400        Condition No.:          1    \n",
       "================================================================\n",
       "\n",
       "\"\"\""
      ]
     },
     "execution_count": 29,
     "metadata": {},
     "output_type": "execute_result"
    }
   ],
   "source": [
    "import statsmodels.api as sm\n",
    "\n",
    "yield_model = sm.OLS(y, Xdf).fit()\n",
    "yield_model.summary2()"
   ]
  },
  {
   "cell_type": "code",
   "execution_count": 30,
   "metadata": {},
   "outputs": [
    {
     "data": {
      "text/html": [
       "<table class=\"simpletable\">\n",
       "<tr>\n",
       "        <td>Model:</td>               <td>OLS</td>         <td>Adj. R-squared:</td>    <td>0.601</td> \n",
       "</tr>\n",
       "<tr>\n",
       "  <td>Dependent Variable:</td>         <td>y</td>               <td>AIC:</td>         <td>55.4747</td>\n",
       "</tr>\n",
       "<tr>\n",
       "         <td>Date:</td>        <td>2021-11-20 22:47</td>        <td>BIC:</td>         <td>55.6335</td>\n",
       "</tr>\n",
       "<tr>\n",
       "   <td>No. Observations:</td>          <td>8</td>          <td>Log-Likelihood:</td>   <td>-25.737</td>\n",
       "</tr>\n",
       "<tr>\n",
       "       <td>Df Model:</td>              <td>1</td>           <td>F-statistic:</td>      <td>11.54</td> \n",
       "</tr>\n",
       "<tr>\n",
       "     <td>Df Residuals:</td>            <td>6</td>        <td>Prob (F-statistic):</td> <td>0.0145</td> \n",
       "</tr>\n",
       "<tr>\n",
       "      <td>R-squared:</td>            <td>0.658</td>            <td>Scale:</td>        <td>48.625</td> \n",
       "</tr>\n",
       "</table>\n",
       "<table class=\"simpletable\">\n",
       "<tr>\n",
       "      <td></td>       <th>Coef.</th>  <th>Std.Err.</th>    <th>t</th>     <th>P>|t|</th> <th>[0.025</th>  <th>0.975]</th> \n",
       "</tr>\n",
       "<tr>\n",
       "  <th>Intercept</th> <td>48.8750</td>  <td>2.4654</td>  <td>19.8245</td> <td>0.0000</td> <td>42.8424</td> <td>54.9076</td>\n",
       "</tr>\n",
       "<tr>\n",
       "  <th>B</th>         <td>8.3750</td>   <td>2.4654</td>  <td>3.3970</td>  <td>0.0145</td> <td>2.3424</td>  <td>14.4076</td>\n",
       "</tr>\n",
       "</table>\n",
       "<table class=\"simpletable\">\n",
       "<tr>\n",
       "     <td>Omnibus:</td>     <td>1.922</td>  <td>Durbin-Watson:</td>   <td>2.386</td>\n",
       "</tr>\n",
       "<tr>\n",
       "  <td>Prob(Omnibus):</td>  <td>0.383</td> <td>Jarque-Bera (JB):</td> <td>0.739</td>\n",
       "</tr>\n",
       "<tr>\n",
       "       <td>Skew:</td>     <td>-0.019</td>     <td>Prob(JB):</td>     <td>0.691</td>\n",
       "</tr>\n",
       "<tr>\n",
       "     <td>Kurtosis:</td>    <td>1.511</td>  <td>Condition No.:</td>     <td>1</td>  \n",
       "</tr>\n",
       "</table>"
      ],
      "text/plain": [
       "<class 'statsmodels.iolib.summary2.Summary'>\n",
       "\"\"\"\n",
       "                Results: Ordinary least squares\n",
       "================================================================\n",
       "Model:              OLS              Adj. R-squared:     0.601  \n",
       "Dependent Variable: y                AIC:                55.4747\n",
       "Date:               2021-11-20 22:47 BIC:                55.6335\n",
       "No. Observations:   8                Log-Likelihood:     -25.737\n",
       "Df Model:           1                F-statistic:        11.54  \n",
       "Df Residuals:       6                Prob (F-statistic): 0.0145 \n",
       "R-squared:          0.658            Scale:              48.625 \n",
       "-----------------------------------------------------------------\n",
       "              Coef.   Std.Err.     t     P>|t|    [0.025   0.975]\n",
       "-----------------------------------------------------------------\n",
       "Intercept    48.8750    2.4654  19.8245  0.0000  42.8424  54.9076\n",
       "B             8.3750    2.4654   3.3970  0.0145   2.3424  14.4076\n",
       "----------------------------------------------------------------\n",
       "Omnibus:              1.922        Durbin-Watson:          2.386\n",
       "Prob(Omnibus):        0.383        Jarque-Bera (JB):       0.739\n",
       "Skew:                 -0.019       Prob(JB):               0.691\n",
       "Kurtosis:             1.511        Condition No.:          1    \n",
       "================================================================\n",
       "\n",
       "\"\"\""
      ]
     },
     "execution_count": 30,
     "metadata": {},
     "output_type": "execute_result"
    }
   ],
   "source": [
    "import statsmodels.api as sm\n",
    "\n",
    "yield_reduced_model = sm.OLS(y,Xdf.drop(columns=['A','C'])).fit()\n",
    "yield_reduced_model.summary2()"
   ]
  },
  {
   "cell_type": "markdown",
   "metadata": {},
   "source": [
    "Note that the significance of coefficients are not synonymous with those from the ANOVA table  \n",
    "because of high multicollinearity (condition number > 100 in model output)."
   ]
  },
  {
   "cell_type": "markdown",
   "metadata": {},
   "source": [
    "## Visual Assessment in Single Replicate Data"
   ]
  },
  {
   "cell_type": "markdown",
   "metadata": {},
   "source": [
    "### Normal probability plot"
   ]
  },
  {
   "cell_type": "code",
   "execution_count": 31,
   "metadata": {},
   "outputs": [
    {
     "data": {
      "image/png": "[encoded data removed]",
      "text/plain": [
       "<Figure size 432x288 with 1 Axes>"
      ]
     },
     "metadata": {
      "image/png": {
       "height": 279,
       "width": 424
      },
      "needs_background": "light"
     },
     "output_type": "display_data"
    }
   ],
   "source": [
    "import statsmodels.api as sm\n",
    "import matplotlib.pyplot as plt\n",
    "import numpy as np\n",
    "\n",
    "effects = np.array([21.625,3.125,9.875,14.625,0.125,-18.125,16.625,\n",
    "                    2.375,-0.375,-1.125,1.875,4.125,-1.625,-2.625,1.375])\n",
    "sm.graphics.qqplot(effects,line='q', alpha=0.5, ms=7)\n",
    "plt.title('Normal plot')\n",
    "plt.tight_layout()\n",
    "plt.grid(ls='--')\n",
    "pass;"
   ]
  },
  {
   "cell_type": "markdown",
   "metadata": {},
   "source": [
    "### Normal probability plot in Minitab style"
   ]
  },
  {
   "cell_type": "code",
   "execution_count": 32,
   "metadata": {},
   "outputs": [],
   "source": [
    "# Input: effects = a dictionary of all effects \n",
    "#        type = normal or halfnormal\n",
    "#        sig_eff = a list of significant effects\n",
    "\n",
    "def effect_plot(effects, type='normal', sig_eff=None):\n",
    "  \n",
    "  n = len(effects)\n",
    "  val = list(effects.values())\n",
    "  Y = np.abs(val) if type=='halfnormal' else val\n",
    "  Y = np.array(Y)\n",
    "\n",
    "  # Determine sample quantiles from normal distribution and plot them against the effects.\n",
    "  sample_cdf = (np.array(range(1, n+1)) - 0.5)/n  \n",
    "  if type == 'halfnormal':\n",
    "    sample_q = stats.halfnorm.ppf(sample_cdf) \n",
    "  else:\n",
    "    sample_q = stats.norm.ppf(sample_cdf)\n",
    "\n",
    "  _,ax = plt.subplots(figsize=(5,5))\n",
    "  plt.scatter(sorted(Y), sample_q, color='blue', marker='s', s=50, alpha=0.5)\n",
    "\n",
    "  # Set the % normal probability labels for the y-axis.\n",
    "  if type=='halfnormal':\n",
    "    #probs = np.array([1,10, 20, 30, 40, 50, 60,70,80,90,95,97,99])/100\n",
    "    probs = np.array([1,10,20,30,40,50,60,70,80,90,95,97,99])/100\n",
    "    theoretical_q = stats.halfnorm.ppf(probs)\n",
    "  else:\n",
    "    probs = np.array([1,5,10,20,30,40,50,60,70,80,90,95,99])/100\n",
    "    theoretical_q = stats.norm.ppf(probs)\n",
    "  \n",
    "\n",
    "  plt.yticks(theoretical_q, [str(x) for x in (probs*100).astype(int)])\n",
    "  plt.ylim([-0.1,2.7]) if type == 'halfnormal' else plt.ylim([-3,3])\n",
    "  plt.xlim(right=1.1*max(Y))\n",
    "  \n",
    "  if type == 'normal':\n",
    "    # Generate a line passing through quantile 0.25 and 0.75 as the reference.\n",
    "    x1, x2 = np.quantile(Y, 0.25, interpolation='lower'), np.quantile(Y, 0.75, interpolation='lower')\n",
    "    y1, y2 = stats.norm.ppf(0.25), stats.norm.ppf(0.75)\n",
    "    \n",
    "    m = (y2-y1)/(x2-x1) \n",
    "    c = y1-m*x1\n",
    "    x = [sorted(Y)[0], sorted(Y)[-1]]\n",
    "    y = [m*sorted(Y)[0]+c, m*sorted(Y)[-1]+c]\n",
    "    \n",
    "    ax.set_xlabel('Effect estimates', fontsize=14)\n",
    "    ax.set_ylabel('Normal % probability', fontsize=14) \n",
    "  else:\n",
    "    # Generate a line passing through the origin (0,0) and the median as the reference.\n",
    "    x_median = np.quantile(Y, 0.5, interpolation='lower')\n",
    "    y_median = stats.halfnorm.ppf(0.5)\n",
    "    m = y_median/x_median\n",
    "    x = [0, sorted(Y)[-1]]\n",
    "    y = [0, m*sorted(Y)[-1]]\n",
    "    \n",
    "    ax.set_xlabel('|Effect estimates|')\n",
    "    ax.set_ylabel('Half-normal % probability') \n",
    "\n",
    "  ax.tick_params(axis='y', which='major', labelsize=10) # axis='both'\n",
    "  ax.tick_params(axis='y', which='minor', labelsize=8)\n",
    "\n",
    "  \n",
    "  ax.plot(x,y, color='red', alpha=0.5)\n",
    "  plt.grid(ls='--')\n",
    "      \n",
    "  # Annotate the significant effects\n",
    "  if(sig_eff):\n",
    "     \n",
    "    xshift = (max(Y)-min(Y))*0.02\n",
    "\n",
    "    for i, label in enumerate(sig_eff):\n",
    "      x = effects.get(label)\n",
    "      if type == 'halfnormal': x = abs(x)\n",
    "     \n",
    "      idx = np.where(np.array(sorted(Y)) == x)[0].item()+1\n",
    "      if type == 'halfnormal':\n",
    "        text = ax.annotate(label, (x+xshift, stats.halfnorm.ppf((idx-0.5)/n)-0.1) )                                 \n",
    "      else:\n",
    "        text = ax.annotate(label, (x+xshift, stats.norm.ppf((idx-0.5)/n)-0.25) )                                 \n",
    "      text.set_fontsize(12)\n",
    "      \n",
    "  pass;"
   ]
  },
  {
   "cell_type": "code",
   "execution_count": 33,
   "metadata": {
    "scrolled": true
   },
   "outputs": [],
   "source": [
    "effects = {'A':21.625,'B':3.125, 'C':9.875,'D':14.625,'AB':0.125, 'AC':-18.125,'AD':16.625,\n",
    "          'BC':2.375, 'BD':-0.375, 'CD':-1.125, 'ABC':1.875, 'ABD':4.125,\n",
    "          'ACD':-1.625,'BCD':-2.625,'ABCD':1.375}\n",
    "sig_eff = ['A','C','D','AC', 'AD']"
   ]
  },
  {
   "cell_type": "code",
   "execution_count": 34,
   "metadata": {},
   "outputs": [
    {
     "data": {
      "image/png": "[encoded data removed]",
      "text/plain": [
       "<Figure size 360x360 with 1 Axes>"
      ]
     },
     "metadata": {
      "image/png": {
       "height": 320,
       "width": 331
      },
      "needs_background": "light"
     },
     "output_type": "display_data"
    }
   ],
   "source": [
    "effect_plot(effects, type='normal', sig_eff=sig_eff)"
   ]
  },
  {
   "cell_type": "code",
   "execution_count": 35,
   "metadata": {},
   "outputs": [
    {
     "data": {
      "image/png": "[encoded data removed]",
      "text/plain": [
       "<Figure size 360x360 with 1 Axes>"
      ]
     },
     "metadata": {
      "image/png": {
       "height": 316,
       "width": 326
      },
      "needs_background": "light"
     },
     "output_type": "display_data"
    }
   ],
   "source": [
    "effect_plot(effects, type='halfnormal', sig_eff=sig_eff)"
   ]
  },
  {
   "cell_type": "markdown",
   "metadata": {},
   "source": [
    "**Design Projection**\n",
    "\n",
    "From the visual assessment, non-significant effects can be removed from the factorial effect matrix and the remaining columns  \n",
    "are used to fit the model."
   ]
  },
  {
   "cell_type": "code",
   "execution_count": 36,
   "metadata": {},
   "outputs": [],
   "source": [
    "##1.1"
   ]
  },
  {
   "cell_type": "code",
   "execution_count": 37,
   "metadata": {},
   "outputs": [
    {
     "data": {
      "text/plain": [
       "(6.666666666666666, 0.0005846286560572282)"
      ]
     },
     "execution_count": 37,
     "metadata": {},
     "output_type": "execute_result"
    }
   ],
   "source": [
    "from scipy import stats\n",
    "F_A = 14/2.1\n",
    "p_valueA = stats.f.sf(F_A,3,60)\n",
    "F_A,p_valueA\n"
   ]
  },
  {
   "cell_type": "code",
   "execution_count": 38,
   "metadata": {},
   "outputs": [
    {
     "data": {
      "text/plain": [
       "(6.428571428571428, 0.00022539340290692316)"
      ]
     },
     "execution_count": 38,
     "metadata": {},
     "output_type": "execute_result"
    }
   ],
   "source": [
    "F_B = 13.5/2.1\n",
    "p_valueB = stats.f.sf(F_B,4,60)\n",
    "F_B,p_valueB\n"
   ]
  },
  {
   "cell_type": "code",
   "execution_count": 39,
   "metadata": {},
   "outputs": [
    {
     "data": {
      "text/plain": [
       "(1.857142857142857, 0.058860549047331345)"
      ]
     },
     "execution_count": 39,
     "metadata": {},
     "output_type": "execute_result"
    }
   ],
   "source": [
    "F_AB = 3.9/2.1\n",
    "p_valueAB = stats.f.sf(F_AB,12,60)\n",
    "F_AB,p_valueAB\n"
   ]
  },
  {
   "cell_type": "code",
   "execution_count": null,
   "metadata": {},
   "outputs": [],
   "source": []
  },
  {
   "cell_type": "code",
   "execution_count": 40,
   "metadata": {},
   "outputs": [],
   "source": [
    "##1.2"
   ]
  },
  {
   "cell_type": "code",
   "execution_count": 41,
   "metadata": {},
   "outputs": [],
   "source": [
    "a = 4\n",
    "b = 5 \n",
    "n = 4\n",
    "MSA = 14\n",
    "MSB = 13.5\n",
    "MSAB =3.9\n",
    "MSE = 2.1"
   ]
  },
  {
   "cell_type": "code",
   "execution_count": 42,
   "metadata": {},
   "outputs": [
    {
     "data": {
      "text/plain": [
       "0.7125"
      ]
     },
     "execution_count": 42,
     "metadata": {},
     "output_type": "execute_result"
    }
   ],
   "source": [
    "L = (MSB - MSE)/(a*n)\n",
    "L"
   ]
  },
  {
   "cell_type": "code",
   "execution_count": 43,
   "metadata": {},
   "outputs": [
    {
     "data": {
      "text/plain": [
       "2.847751774914541"
      ]
     },
     "execution_count": 43,
     "metadata": {},
     "output_type": "execute_result"
    }
   ],
   "source": [
    "df = (((MSB/(a*n)) - (MSE/(a*n)))**2) / ((((MSB/(a*n))**2)/(b-1) + ((MSE/((-1)*(a*n)))**2)/(a*b*(n-1))))\n",
    "df"
   ]
  },
  {
   "cell_type": "code",
   "execution_count": 44,
   "metadata": {},
   "outputs": [
    {
     "name": "stdout",
     "output_type": "stream",
     "text": [
      "0.22864866456685312\n",
      "9.905221161508772\n",
      "standard variation =  0.478172212248739 , 3.1472561321743058\n"
     ]
    }
   ],
   "source": [
    "import math\n",
    "df = 3 \n",
    "lef = (df*L)/stats.chi2.isf(0.05/2,df)\n",
    "rig = (df*L)/stats.chi2.isf(1-(0.05/2),df)\n",
    "print(lef)\n",
    "print(rig)\n",
    "\n",
    "print('standard variation = ',math.sqrt(lef),',',math.sqrt(rig))"
   ]
  },
  {
   "cell_type": "code",
   "execution_count": 45,
   "metadata": {},
   "outputs": [],
   "source": [
    "##2"
   ]
  },
  {
   "cell_type": "code",
   "execution_count": 46,
   "metadata": {},
   "outputs": [
    {
     "data": {
      "text/plain": [
       "(array([[ 550,  604],\n",
       "        [ 669,  650],\n",
       "        [ 633,  601],\n",
       "        [ 642,  635],\n",
       "        [1037, 1052],\n",
       "        [ 749,  868],\n",
       "        [1075, 1063],\n",
       "        [ 729,  860]]),\n",
       " array([[1154],\n",
       "        [1319],\n",
       "        [1234],\n",
       "        [1277],\n",
       "        [2089],\n",
       "        [1617],\n",
       "        [2138],\n",
       "        [1589]]))"
      ]
     },
     "execution_count": 46,
     "metadata": {},
     "output_type": "execute_result"
    }
   ],
   "source": [
    "etch_y = np.array([[550,604],\n",
    "                  [669,650],\n",
    "                  [633,601],\n",
    "                  [642,635],\n",
    "                  [1037,1052],\n",
    "                  [749,868],\n",
    "                  [1075,1063],\n",
    "                  [729,860]])\n",
    "total_etch = np.c_[etch_y.sum(axis=1)]\n",
    "etch_y , total_etch"
   ]
  },
  {
   "cell_type": "code",
   "execution_count": 47,
   "metadata": {},
   "outputs": [
    {
     "data": {
      "text/html": [
       "<div>\n",
       "<style scoped>\n",
       "    .dataframe tbody tr th:only-of-type {\n",
       "        vertical-align: middle;\n",
       "    }\n",
       "\n",
       "    .dataframe tbody tr th {\n",
       "        vertical-align: top;\n",
       "    }\n",
       "\n",
       "    .dataframe thead th {\n",
       "        text-align: right;\n",
       "    }\n",
       "</style>\n",
       "<table border=\"1\" class=\"dataframe\">\n",
       "  <thead>\n",
       "    <tr style=\"text-align: right;\">\n",
       "      <th></th>\n",
       "      <th>Intercept</th>\n",
       "      <th>A</th>\n",
       "      <th>B</th>\n",
       "      <th>C</th>\n",
       "    </tr>\n",
       "  </thead>\n",
       "  <tbody>\n",
       "    <tr>\n",
       "      <th>0</th>\n",
       "      <td>1</td>\n",
       "      <td>-1</td>\n",
       "      <td>-1</td>\n",
       "      <td>-1</td>\n",
       "    </tr>\n",
       "    <tr>\n",
       "      <th>1</th>\n",
       "      <td>1</td>\n",
       "      <td>1</td>\n",
       "      <td>-1</td>\n",
       "      <td>-1</td>\n",
       "    </tr>\n",
       "    <tr>\n",
       "      <th>2</th>\n",
       "      <td>1</td>\n",
       "      <td>-1</td>\n",
       "      <td>1</td>\n",
       "      <td>-1</td>\n",
       "    </tr>\n",
       "    <tr>\n",
       "      <th>3</th>\n",
       "      <td>1</td>\n",
       "      <td>1</td>\n",
       "      <td>1</td>\n",
       "      <td>-1</td>\n",
       "    </tr>\n",
       "    <tr>\n",
       "      <th>4</th>\n",
       "      <td>1</td>\n",
       "      <td>-1</td>\n",
       "      <td>-1</td>\n",
       "      <td>1</td>\n",
       "    </tr>\n",
       "    <tr>\n",
       "      <th>5</th>\n",
       "      <td>1</td>\n",
       "      <td>1</td>\n",
       "      <td>-1</td>\n",
       "      <td>1</td>\n",
       "    </tr>\n",
       "    <tr>\n",
       "      <th>6</th>\n",
       "      <td>1</td>\n",
       "      <td>-1</td>\n",
       "      <td>1</td>\n",
       "      <td>1</td>\n",
       "    </tr>\n",
       "    <tr>\n",
       "      <th>7</th>\n",
       "      <td>1</td>\n",
       "      <td>1</td>\n",
       "      <td>1</td>\n",
       "      <td>1</td>\n",
       "    </tr>\n",
       "  </tbody>\n",
       "</table>\n",
       "</div>"
      ],
      "text/plain": [
       "   Intercept  A  B  C\n",
       "0          1 -1 -1 -1\n",
       "1          1  1 -1 -1\n",
       "2          1 -1  1 -1\n",
       "3          1  1  1 -1\n",
       "4          1 -1 -1  1\n",
       "5          1  1 -1  1\n",
       "6          1 -1  1  1\n",
       "7          1  1  1  1"
      ]
     },
     "execution_count": 47,
     "metadata": {},
     "output_type": "execute_result"
    }
   ],
   "source": [
    "import pandas as pd\n",
    "Xmain = np.array([[+1,-1,-1,-1],\n",
    "                 [+1,+1,-1,-1],\n",
    "                 [+1,-1,+1,-1],\n",
    "                 [+1,+1,+1,-1],\n",
    "                 [+1,-1,-1,+1],\n",
    "                 [+1,+1,-1,+1],\n",
    "                 [+1,-1,+1,+1],\n",
    "                 [+1,+1,+1,+1]])\n",
    "xdf = pd.DataFrame(Xmain,columns = ['Intercept','A','B','C'])\n",
    "xdf"
   ]
  },
  {
   "cell_type": "code",
   "execution_count": 48,
   "metadata": {},
   "outputs": [],
   "source": [
    "##2.1(a)"
   ]
  },
  {
   "cell_type": "code",
   "execution_count": 49,
   "metadata": {},
   "outputs": [
    {
     "data": {
      "text/html": [
       "<table class=\"simpletable\">\n",
       "<tr>\n",
       "        <td>Model:</td>               <td>OLS</td>         <td>Adj. R-squared:</td>     <td>0.669</td> \n",
       "</tr>\n",
       "<tr>\n",
       "  <td>Dependent Variable:</td>         <td>y</td>               <td>AIC:</td>         <td>111.4742</td>\n",
       "</tr>\n",
       "<tr>\n",
       "         <td>Date:</td>        <td>2021-11-20 22:47</td>        <td>BIC:</td>         <td>111.7920</td>\n",
       "</tr>\n",
       "<tr>\n",
       "   <td>No. Observations:</td>          <td>8</td>          <td>Log-Likelihood:</td>    <td>-51.737</td>\n",
       "</tr>\n",
       "<tr>\n",
       "       <td>Df Model:</td>              <td>3</td>           <td>F-statistic:</td>       <td>5.722</td> \n",
       "</tr>\n",
       "<tr>\n",
       "     <td>Df Residuals:</td>            <td>4</td>        <td>Prob (F-statistic):</td>  <td>0.0626</td> \n",
       "</tr>\n",
       "<tr>\n",
       "      <td>R-squared:</td>            <td>0.811</td>            <td>Scale:</td>         <td>48511.</td> \n",
       "</tr>\n",
       "</table>\n",
       "<table class=\"simpletable\">\n",
       "<tr>\n",
       "      <td></td>        <th>Coef.</th>   <th>Std.Err.</th>    <th>t</th>     <th>P>|t|</th>  <th>[0.025</th>    <th>0.975]</th>  \n",
       "</tr>\n",
       "<tr>\n",
       "  <th>Intercept</th> <td>1552.1250</td>  <td>77.8710</td> <td>19.9320</td> <td>0.0000</td> <td>1335.9205</td> <td>1768.3295</td>\n",
       "</tr>\n",
       "<tr>\n",
       "  <th>A</th>         <td>-101.6250</td>  <td>77.8710</td> <td>-1.3050</td> <td>0.2619</td> <td>-317.8295</td> <td>114.5795</td> \n",
       "</tr>\n",
       "<tr>\n",
       "  <th>B</th>          <td>7.3750</td>    <td>77.8710</td> <td>0.0947</td>  <td>0.9291</td> <td>-208.8295</td> <td>223.5795</td> \n",
       "</tr>\n",
       "<tr>\n",
       "  <th>C</th>         <td>306.1250</td>   <td>77.8710</td> <td>3.9312</td>  <td>0.0171</td>  <td>89.9205</td>  <td>522.3295</td> \n",
       "</tr>\n",
       "</table>\n",
       "<table class=\"simpletable\">\n",
       "<tr>\n",
       "     <td>Omnibus:</td>     <td>6.559</td>  <td>Durbin-Watson:</td>   <td>2.947</td>\n",
       "</tr>\n",
       "<tr>\n",
       "  <td>Prob(Omnibus):</td>  <td>0.038</td> <td>Jarque-Bera (JB):</td> <td>1.197</td>\n",
       "</tr>\n",
       "<tr>\n",
       "       <td>Skew:</td>     <td>-0.013</td>     <td>Prob(JB):</td>     <td>0.550</td>\n",
       "</tr>\n",
       "<tr>\n",
       "     <td>Kurtosis:</td>    <td>1.105</td>  <td>Condition No.:</td>     <td>1</td>  \n",
       "</tr>\n",
       "</table>"
      ],
      "text/plain": [
       "<class 'statsmodels.iolib.summary2.Summary'>\n",
       "\"\"\"\n",
       "                 Results: Ordinary least squares\n",
       "=================================================================\n",
       "Model:              OLS              Adj. R-squared:     0.669   \n",
       "Dependent Variable: y                AIC:                111.4742\n",
       "Date:               2021-11-20 22:47 BIC:                111.7920\n",
       "No. Observations:   8                Log-Likelihood:     -51.737 \n",
       "Df Model:           3                F-statistic:        5.722   \n",
       "Df Residuals:       4                Prob (F-statistic): 0.0626  \n",
       "R-squared:          0.811            Scale:              48511.  \n",
       "-----------------------------------------------------------------\n",
       "              Coef.   Std.Err.    t    P>|t|    [0.025    0.975] \n",
       "-----------------------------------------------------------------\n",
       "Intercept   1552.1250  77.8710 19.9320 0.0000 1335.9205 1768.3295\n",
       "A           -101.6250  77.8710 -1.3050 0.2619 -317.8295  114.5795\n",
       "B              7.3750  77.8710  0.0947 0.9291 -208.8295  223.5795\n",
       "C            306.1250  77.8710  3.9312 0.0171   89.9205  522.3295\n",
       "-----------------------------------------------------------------\n",
       "Omnibus:               6.559        Durbin-Watson:          2.947\n",
       "Prob(Omnibus):         0.038        Jarque-Bera (JB):       1.197\n",
       "Skew:                  -0.013       Prob(JB):               0.550\n",
       "Kurtosis:              1.105        Condition No.:          1    \n",
       "=================================================================\n",
       "\n",
       "\"\"\""
      ]
     },
     "execution_count": 49,
     "metadata": {},
     "output_type": "execute_result"
    }
   ],
   "source": [
    "import statsmodels.api as sm\n",
    "etch_model = sm.OLS(total_etch,xdf).fit()\n",
    "etch_model.summary2()"
   ]
  },
  {
   "cell_type": "code",
   "execution_count": 50,
   "metadata": {},
   "outputs": [],
   "source": [
    "##2.2(b)"
   ]
  },
  {
   "cell_type": "code",
   "execution_count": 51,
   "metadata": {},
   "outputs": [
    {
     "data": {
      "text/html": [
       "<table class=\"simpletable\">\n",
       "<tr>\n",
       "        <td>Model:</td>               <td>OLS</td>         <td>Adj. R-squared:</td>     <td>0.685</td> \n",
       "</tr>\n",
       "<tr>\n",
       "  <td>Dependent Variable:</td>         <td>y</td>               <td>AIC:</td>         <td>110.3246</td>\n",
       "</tr>\n",
       "<tr>\n",
       "         <td>Date:</td>        <td>2021-11-20 22:47</td>        <td>BIC:</td>         <td>110.4835</td>\n",
       "</tr>\n",
       "<tr>\n",
       "   <td>No. Observations:</td>          <td>8</td>          <td>Log-Likelihood:</td>    <td>-53.162</td>\n",
       "</tr>\n",
       "<tr>\n",
       "       <td>Df Model:</td>              <td>1</td>           <td>F-statistic:</td>       <td>16.23</td> \n",
       "</tr>\n",
       "<tr>\n",
       "     <td>Df Residuals:</td>            <td>6</td>        <td>Prob (F-statistic):</td>  <td>0.00689</td>\n",
       "</tr>\n",
       "<tr>\n",
       "      <td>R-squared:</td>            <td>0.730</td>            <td>Scale:</td>         <td>46183.</td> \n",
       "</tr>\n",
       "</table>\n",
       "<table class=\"simpletable\">\n",
       "<tr>\n",
       "      <td></td>        <th>Coef.</th>   <th>Std.Err.</th>    <th>t</th>     <th>P>|t|</th>  <th>[0.025</th>    <th>0.975]</th>  \n",
       "</tr>\n",
       "<tr>\n",
       "  <th>Intercept</th> <td>1552.1250</td>  <td>75.9798</td> <td>20.4281</td> <td>0.0000</td> <td>1366.2091</td> <td>1738.0409</td>\n",
       "</tr>\n",
       "<tr>\n",
       "  <th>C</th>         <td>306.1250</td>   <td>75.9798</td> <td>4.0290</td>  <td>0.0069</td> <td>120.2091</td>  <td>492.0409</td> \n",
       "</tr>\n",
       "</table>\n",
       "<table class=\"simpletable\">\n",
       "<tr>\n",
       "     <td>Omnibus:</td>    <td>0.433</td>  <td>Durbin-Watson:</td>   <td>3.146</td>\n",
       "</tr>\n",
       "<tr>\n",
       "  <td>Prob(Omnibus):</td> <td>0.805</td> <td>Jarque-Bera (JB):</td> <td>0.445</td>\n",
       "</tr>\n",
       "<tr>\n",
       "       <td>Skew:</td>     <td>0.005</td>     <td>Prob(JB):</td>     <td>0.800</td>\n",
       "</tr>\n",
       "<tr>\n",
       "     <td>Kurtosis:</td>   <td>1.845</td>  <td>Condition No.:</td>     <td>1</td>  \n",
       "</tr>\n",
       "</table>"
      ],
      "text/plain": [
       "<class 'statsmodels.iolib.summary2.Summary'>\n",
       "\"\"\"\n",
       "                 Results: Ordinary least squares\n",
       "=================================================================\n",
       "Model:              OLS              Adj. R-squared:     0.685   \n",
       "Dependent Variable: y                AIC:                110.3246\n",
       "Date:               2021-11-20 22:47 BIC:                110.4835\n",
       "No. Observations:   8                Log-Likelihood:     -53.162 \n",
       "Df Model:           1                F-statistic:        16.23   \n",
       "Df Residuals:       6                Prob (F-statistic): 0.00689 \n",
       "R-squared:          0.730            Scale:              46183.  \n",
       "-----------------------------------------------------------------\n",
       "              Coef.   Std.Err.    t    P>|t|    [0.025    0.975] \n",
       "-----------------------------------------------------------------\n",
       "Intercept   1552.1250  75.9798 20.4281 0.0000 1366.2091 1738.0409\n",
       "C            306.1250  75.9798  4.0290 0.0069  120.2091  492.0409\n",
       "-----------------------------------------------------------------\n",
       "Omnibus:              0.433        Durbin-Watson:           3.146\n",
       "Prob(Omnibus):        0.805        Jarque-Bera (JB):        0.445\n",
       "Skew:                 0.005        Prob(JB):                0.800\n",
       "Kurtosis:             1.845        Condition No.:           1    \n",
       "=================================================================\n",
       "\n",
       "\"\"\""
      ]
     },
     "execution_count": 51,
     "metadata": {},
     "output_type": "execute_result"
    }
   ],
   "source": [
    "import statsmodels.api as sm\n",
    "etch_reduced_model = sm.OLS(total_etch,xdf.drop(columns = ['A','B'])).fit()\n",
    "etch_reduced_model.summary2()"
   ]
  },
  {
   "cell_type": "code",
   "execution_count": null,
   "metadata": {},
   "outputs": [],
   "source": []
  }
 ],
 "metadata": {
  "hide_input": false,
  "kernelspec": {
   "display_name": "Python 3 (ipykernel)",
   "language": "python",
   "name": "python3"
  },
  "language_info": {
   "codemirror_mode": {
    "name": "ipython",
    "version": 3
   },
   "file_extension": ".py",
   "mimetype": "text/x-python",
   "name": "python",
   "nbconvert_exporter": "python",
   "pygments_lexer": "ipython3",
   "version": "3.8.8"
  },
  "latex_envs": {
   "LaTeX_envs_menu_present": true,
   "autoclose": true,
   "autocomplete": true,
   "bibliofile": "biblio.bib",
   "cite_by": "apalike",
   "current_citInitial": 1,
   "eqLabelWithNumbers": true,
   "eqNumInitial": 1,
   "hotkeys": {
    "equation": "Ctrl-E",
    "itemize": "Ctrl-I"
   },
   "labels_anchors": false,
   "latex_user_defs": false,
   "report_style_numbering": true,
   "user_envs_cfg": false
  },
  "toc": {
   "base_numbering": 1,
   "nav_menu": {},
   "number_sections": true,
   "sideBar": true,
   "skip_h1_title": true,
   "title_cell": "Table of Contents",
   "title_sidebar": "Contents",
   "toc_cell": true,
   "toc_position": {},
   "toc_section_display": true,
   "toc_window_display": true
  },
  "varInspector": {
   "cols": {
    "lenName": 16,
    "lenType": 16,
    "lenVar": 40
   },
   "kernels_config": {
    "python": {
     "delete_cmd_postfix": "",
     "delete_cmd_prefix": "del ",
     "library": "var_list.py",
     "varRefreshCmd": "print(var_dic_list())"
    },
    "r": {
     "delete_cmd_postfix": ") ",
     "delete_cmd_prefix": "rm(",
     "library": "var_list.r",
     "varRefreshCmd": "cat(var_dic_list()) "
    }
   },
   "types_to_exclude": [
    "module",
    "function",
    "builtin_function_or_method",
    "instance",
    "_Feature"
   ],
   "window_display": false
  }
 },
 "nbformat": 4,
 "nbformat_minor": 4
}
